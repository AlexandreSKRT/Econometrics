{
 "cells": [
  {
   "cell_type": "markdown",
   "metadata": {},
   "source": [
    "**Authors :** Alexandre Sukeratha, Jules Michaud\n",
    "\n",
    "# Project Econometrics - Part 1\n",
    "_Important : some cells require the previous cells to be runned to properly function. Therefore, we advise you to press the \"Run All\" button before taking a look at the NoteBook._"
   ]
  },
  {
   "cell_type": "markdown",
   "metadata": {},
   "source": [
    "### Importing librairies "
   ]
  },
  {
   "cell_type": "code",
   "execution_count": 109,
   "metadata": {},
   "outputs": [],
   "source": [
    "from mpl_toolkits.mplot3d import Axes3D\n",
    "import matplotlib.pyplot as plt\n",
    "import statsmodels.api as sm\n",
    "from scipy.stats import t\n",
    "from scipy.stats import f\n",
    "import seaborn as sns\n",
    "import pandas as pd\n",
    "import numpy as np\n",
    "\n",
    "sns.set_style('darkgrid')"
   ]
  },
  {
   "cell_type": "markdown",
   "metadata": {},
   "source": [
    "### Importing the Data Set"
   ]
  },
  {
   "cell_type": "code",
   "execution_count": 110,
   "metadata": {},
   "outputs": [
    {
     "data": {
      "text/html": [
       "<div>\n",
       "<style scoped>\n",
       "    .dataframe tbody tr th:only-of-type {\n",
       "        vertical-align: middle;\n",
       "    }\n",
       "\n",
       "    .dataframe tbody tr th {\n",
       "        vertical-align: top;\n",
       "    }\n",
       "\n",
       "    .dataframe thead th {\n",
       "        text-align: right;\n",
       "    }\n",
       "</style>\n",
       "<table border=\"1\" class=\"dataframe\">\n",
       "  <thead>\n",
       "    <tr style=\"text-align: right;\">\n",
       "      <th></th>\n",
       "      <th>0</th>\n",
       "      <th>1</th>\n",
       "      <th>2</th>\n",
       "      <th>3</th>\n",
       "      <th>4</th>\n",
       "      <th>5</th>\n",
       "      <th>6</th>\n",
       "      <th>7</th>\n",
       "      <th>8</th>\n",
       "      <th>9</th>\n",
       "      <th>...</th>\n",
       "      <th>12</th>\n",
       "      <th>13</th>\n",
       "      <th>14</th>\n",
       "      <th>15</th>\n",
       "      <th>16</th>\n",
       "      <th>17</th>\n",
       "      <th>18</th>\n",
       "      <th>19</th>\n",
       "      <th>20</th>\n",
       "      <th>21</th>\n",
       "    </tr>\n",
       "  </thead>\n",
       "  <tbody>\n",
       "    <tr>\n",
       "      <th>0</th>\n",
       "      <td>1</td>\n",
       "      <td>1610</td>\n",
       "      <td>1</td>\n",
       "      <td>0</td>\n",
       "      <td>32</td>\n",
       "      <td>12</td>\n",
       "      <td>3.3540</td>\n",
       "      <td>2.65</td>\n",
       "      <td>2708</td>\n",
       "      <td>34</td>\n",
       "      <td>...</td>\n",
       "      <td>16310</td>\n",
       "      <td>0.7215</td>\n",
       "      <td>12</td>\n",
       "      <td>7</td>\n",
       "      <td>5.0</td>\n",
       "      <td>0</td>\n",
       "      <td>14</td>\n",
       "      <td>10.91006</td>\n",
       "      <td>1.210154</td>\n",
       "      <td>196</td>\n",
       "    </tr>\n",
       "    <tr>\n",
       "      <th>1</th>\n",
       "      <td>1</td>\n",
       "      <td>1656</td>\n",
       "      <td>0</td>\n",
       "      <td>2</td>\n",
       "      <td>30</td>\n",
       "      <td>12</td>\n",
       "      <td>1.3889</td>\n",
       "      <td>2.65</td>\n",
       "      <td>2310</td>\n",
       "      <td>30</td>\n",
       "      <td>...</td>\n",
       "      <td>21800</td>\n",
       "      <td>0.6615</td>\n",
       "      <td>7</td>\n",
       "      <td>7</td>\n",
       "      <td>11.0</td>\n",
       "      <td>1</td>\n",
       "      <td>5</td>\n",
       "      <td>19.49998</td>\n",
       "      <td>.3285121</td>\n",
       "      <td>25</td>\n",
       "    </tr>\n",
       "  </tbody>\n",
       "</table>\n",
       "<p>2 rows × 22 columns</p>\n",
       "</div>"
      ],
      "text/plain": [
       "   0     1   2   3   4   5       6     7     8   9   ...     12      13  14  \\\n",
       "0   1  1610   1   0  32  12  3.3540  2.65  2708  34  ...  16310  0.7215  12   \n",
       "1   1  1656   0   2  30  12  1.3889  2.65  2310  30  ...  21800  0.6615   7   \n",
       "\n",
       "   15    16  17  18        19        20   21  \n",
       "0   7   5.0   0  14  10.91006  1.210154  196  \n",
       "1   7  11.0   1   5  19.49998  .3285121   25  \n",
       "\n",
       "[2 rows x 22 columns]"
      ]
     },
     "execution_count": 110,
     "metadata": {},
     "output_type": "execute_result"
    }
   ],
   "source": [
    "df = pd.read_csv('MROZ.csv', header=None, delimiter=\";\")\n",
    "df.head(2)"
   ]
  },
  {
   "cell_type": "markdown",
   "metadata": {},
   "source": [
    "### Description of the Data Set\n",
    "|Column Number |Name |Description|\n",
    "|--|--|--|\n",
    "|0. |inlf                     |=1 if in labor force, 1975|\n",
    "|1. |hours                    |hours worked, 1975|\n",
    "|2. |kidslt6                  |# kids < 6 years|\n",
    "|3. |kidsgt6                  |# kids 6-18|\n",
    "|4. |age                      |woman's age in yrs|\n",
    "|5. |educ                     |years of schooling|\n",
    "|6. |wage                     |estimated wage from earns., hours|\n",
    "|7. |repwage                  |reported wage at interview in 1976|\n",
    "|8. |hushrs                   |hours worked by husband, 1975|\n",
    "|9. |husage                   |husband's age|\n",
    "|10. |huseduc                  |husband's years of schooling|\n",
    "|11. |huswage                  |husband's hourly wage, 1975|\n",
    "|12. |faminc                   |family income, 1975|\n",
    "|13. |mtr                      |fed. marginal tax rate facing woman|\n",
    "|14. |motheduc                 |mother's years of schooling|\n",
    "|15. |fatheduc                 |father's years of schooling|\n",
    "|16. |unem                     |unem. rate in county of resid.|\n",
    "|17. |city                     |=1 if live in SMSA|\n",
    "|18. |exper                    |actual labor mkt exper|\n",
    "|19. |nwifeinc                 |(faminc - wage*hours)/1000|\n",
    "|20. |lwage                    |log(wage)|\n",
    "|21. |expersq                  |exper^2|"
   ]
  },
  {
   "cell_type": "markdown",
   "metadata": {},
   "source": [
    "## Table of contents\n",
    "_Disclaimer: The following links take you to the end of each respective question._\n",
    "* [Question 1](#q1)\n",
    "* [Question 2](#q2)\n",
    "* [Question 3](#q3)\n",
    "* [Question 4](#q4)\n",
    "* [Question 5](#q5)\n",
    "* [Question 6](#q6)\n",
    "* [Question 7](#q7)\n",
    "* [Question 8](#q8)\n",
    "* [Question 9](#q9)\n",
    "* [Question 10](#q10)\n",
    "* [Question 11](#q11)\n",
    "* [Question 12](#q12)\n",
    "* [Question 13](#q13)\n",
    "* [Question 14](#q14)\n",
    "* [Question 15](#q15)\n",
    "* [Question 16](#q16)"
   ]
  },
  {
   "cell_type": "markdown",
   "metadata": {},
   "source": [
    "### 1. Removing all rows where `wage` $\\leq0$ <a class=\"anchor\" id=\"q1\"></a>"
   ]
  },
  {
   "cell_type": "code",
   "execution_count": 111,
   "metadata": {},
   "outputs": [],
   "source": [
    "df = df[df[6] > 0]"
   ]
  },
  {
   "cell_type": "markdown",
   "metadata": {},
   "source": [
    "### 2. Descriptive statistics on `salary`, `age` and `education` <a class=\"anchor\" id=\"q2\"></a>"
   ]
  },
  {
   "cell_type": "code",
   "execution_count": 112,
   "metadata": {},
   "outputs": [],
   "source": [
    "def desc_stats(feature):\n",
    "    # Descriptive statistics :\n",
    "    mean = np.mean(feature)\n",
    "    var = np.var(feature)\n",
    "    std = np.std(feature)\n",
    "    median = np.median(feature)\n",
    "\n",
    "    # Plotting those statistics :\n",
    "    print(f'* mean : {mean}')\n",
    "    print(f'* variance : {var}')\n",
    "    print(f'* standard error : {std}')\n",
    "    print(f'* median : {median}')\n"
   ]
  },
  {
   "cell_type": "code",
   "execution_count": 113,
   "metadata": {},
   "outputs": [
    {
     "name": "stdout",
     "output_type": "stream",
     "text": [
      "===================== All women ========================\n",
      "-- age --\n",
      "* mean : 41.97196261682243\n",
      "* variance : 59.47584941916327\n",
      "* standard error : 7.712058701745161\n",
      "* median : 42.0\n",
      "-- educ --\n",
      "* mean : 12.658878504672897\n",
      "* variance : 5.21073892916413\n",
      "* standard error : 2.28270430173602\n",
      "* median : 12.0\n",
      "-- wage --\n",
      "* mean : 4.177681542056075\n",
      "* variance : 10.932366752579874\n",
      "* standard error : 3.3064129736891417\n",
      "* median : 3.4819\n"
     ]
    }
   ],
   "source": [
    "# Data Set features - data extraction :\n",
    "mask_hus_med_sup = (df[11] > np.median(df[11]))\n",
    "mask_hus_med_inf = (df[11] <= np.median(df[11]))\n",
    "\n",
    "df_hms = df[mask_hus_med_sup]\n",
    "df_hmi = df[mask_hus_med_inf]\n",
    "\n",
    "age, age_hms, age_hmi = df[4], df_hms[4], df_hmi[4]\n",
    "educ, educ_hms, educ_hmi = df[5], df_hms[5], df_hmi[5]\n",
    "wage, wage_hms, wage_hmi = df[6], df_hms[6], df_hmi[6]\n",
    "\n",
    "# Plotting the results :\n",
    "print('===================== All women ========================')\n",
    "print('-- age --')\n",
    "desc_stats(age)\n",
    "print('-- educ --')\n",
    "desc_stats(educ)\n",
    "print('-- wage --')\n",
    "desc_stats(wage)\n"
   ]
  },
  {
   "cell_type": "code",
   "execution_count": 114,
   "metadata": {},
   "outputs": [
    {
     "name": "stdout",
     "output_type": "stream",
     "text": [
      "========== Women with huswage > median(wage) ===========\n",
      "-- age --\n",
      "* mean : 42.27570093457944\n",
      "* variance : 54.339876845139344\n",
      "* standard error : 7.371558644217608\n",
      "* median : 43.0\n",
      "-- educ --\n",
      "* mean : 13.242990654205608\n",
      "* variance : 5.539086383090221\n",
      "* standard error : 2.353526371870564\n",
      "* median : 12.0\n",
      "-- wage --\n",
      "* mean : 4.896822429906542\n",
      "* variance : 16.258248838749235\n",
      "* standard error : 4.032151886865032\n",
      "* median : 3.8464\n"
     ]
    }
   ],
   "source": [
    "print('========== Women with huswage > median(wage) ===========')\n",
    "print('-- age --')\n",
    "desc_stats(age_hms)\n",
    "print('-- educ --')\n",
    "desc_stats(educ_hms)\n",
    "print('-- wage --')\n",
    "desc_stats(wage_hms)\n"
   ]
  },
  {
   "cell_type": "code",
   "execution_count": 115,
   "metadata": {},
   "outputs": [
    {
     "name": "stdout",
     "output_type": "stream",
     "text": [
      "========== Women with huswage <= median(wage) ==========\n",
      "-- age --\n",
      "* mean : 41.66822429906542\n",
      "* variance : 64.42730806183945\n",
      "* standard error : 8.026662323895247\n",
      "* median : 41.0\n",
      "-- educ --\n",
      "* mean : 12.074766355140186\n",
      "* variance : 4.20001746877458\n",
      "* standard error : 2.0493944151320846\n",
      "* median : 12.0\n",
      "-- wage --\n",
      "* mean : 3.4585406542056094\n",
      "* variance : 4.572157433253777\n",
      "* standard error : 2.1382603754579974\n",
      "* median : 2.9718\n"
     ]
    }
   ],
   "source": [
    "print('========== Women with huswage <= median(wage) ==========')\n",
    "print('-- age --')\n",
    "desc_stats(age_hmi)\n",
    "print('-- educ --')\n",
    "desc_stats(educ_hmi)\n",
    "print('-- wage --')\n",
    "desc_stats(wage_hmi)\n"
   ]
  },
  {
   "cell_type": "markdown",
   "metadata": {},
   "source": [
    "### 3. Histograms and computation of log(`wage`) <a class=\"anchor\" id=\"q3\"></a>"
   ]
  },
  {
   "cell_type": "code",
   "execution_count": 116,
   "metadata": {},
   "outputs": [
    {
     "data": {
      "image/png": "[encoded data removed]",
      "text/plain": [
       "<Figure size 360x360 with 1 Axes>"
      ]
     },
     "metadata": {},
     "output_type": "display_data"
    }
   ],
   "source": [
    "# Histogram of wage :\n",
    "sns.displot(wage, kde=True)\n",
    "\n",
    "plt.xlabel('wage')\n",
    "plt.title('wage histogram')\n",
    "\n",
    "plt.show()\n",
    "plt.close()\n"
   ]
  },
  {
   "cell_type": "code",
   "execution_count": 117,
   "metadata": {},
   "outputs": [
    {
     "data": {
      "image/png": "[encoded data removed]",
      "text/plain": [
       "<Figure size 360x360 with 1 Axes>"
      ]
     },
     "metadata": {},
     "output_type": "display_data"
    }
   ],
   "source": [
    "# Computation of log(wage) :\n",
    "lwage = np.log(wage)\n",
    "\n",
    "# Histogram of log(wage) :\n",
    "sns.displot(lwage, kde=True)\n",
    "\n",
    "plt.xlabel('log(wage)')\n",
    "plt.title('log(wage) histogram')\n",
    "\n",
    "plt.show()\n",
    "plt.close()\n"
   ]
  },
  {
   "cell_type": "markdown",
   "metadata": {},
   "source": [
    "**Comments on the two histograms:** The `lwage` distribution is much closer to a Gaussian distribution than its `wage` counterpart. Therefore, it will be more interesting to work with the lwage variable."
   ]
  },
  {
   "cell_type": "markdown",
   "metadata": {},
   "source": [
    "### 4. Correlations between `motheduc` and `fatheduc` <a class=\"anchor\" id=\"q4\"></a>"
   ]
  },
  {
   "cell_type": "code",
   "execution_count": 118,
   "metadata": {},
   "outputs": [
    {
     "name": "stdout",
     "output_type": "stream",
     "text": [
      "[[1.         0.55406322]\n",
      " [0.55406322 1.        ]]\n"
     ]
    }
   ],
   "source": [
    "# Computing the correlation matrix :\n",
    "motheduc, fatheduc = df[14], df[15]\n",
    "corr = np.corrcoef(motheduc, fatheduc)\n",
    "print(corr)\n"
   ]
  },
  {
   "cell_type": "markdown",
   "metadata": {},
   "source": [
    "The calculated correlation between `motheduc` and `fatheduc` is about 0.55. This high correlation is not surprising since people tend to marry within their social class. However, a multicollinearity problem would arise if we used `motheduc` and `fatheduc` as explanatory variables."
   ]
  },
  {
   "cell_type": "markdown",
   "metadata": {},
   "source": [
    "### 5. Data visualisation - scatter plots <a class=\"anchor\" id=\"q5\"></a>"
   ]
  },
  {
   "cell_type": "code",
   "execution_count": 119,
   "metadata": {},
   "outputs": [
    {
     "data": {
      "image/png": "[encoded data removed]",
      "text/plain": [
       "<Figure size 432x288 with 1 Axes>"
      ]
     },
     "metadata": {},
     "output_type": "display_data"
    },
    {
     "data": {
      "image/png": "[encoded data removed]",
      "text/plain": [
       "<Figure size 432x288 with 1 Axes>"
      ]
     },
     "metadata": {},
     "output_type": "display_data"
    },
    {
     "data": {
      "image/png": "[encoded data removed]",
      "text/plain": [
       "<Figure size 432x288 with 1 Axes>"
      ]
     },
     "metadata": {},
     "output_type": "display_data"
    }
   ],
   "source": [
    "# Features used :\n",
    "wage = df[6]\n",
    "educ = df[5]\n",
    "exper = df[18]\n",
    "fatheduc = df[15]\n",
    "\n",
    "# Scatter plot bewteen wage and educ :\n",
    "sns.regplot(data=None, x=educ, y=wage)\n",
    "plt.ylabel('wage')\n",
    "plt.xlabel('educ')\n",
    "plt.show()\n",
    "\n",
    "# Scatter plot bewteen wage and exper :\n",
    "sns.regplot(data=None, x=exper, y=wage)\n",
    "plt.ylabel('wage')\n",
    "plt.xlabel('exper')\n",
    "plt.show()\n",
    "\n",
    "# Scatter plot bewteen wage and fatheduc :\n",
    "sns.regplot(data=None, x=fatheduc, y=wage)\n",
    "plt.ylabel('wage')\n",
    "plt.xlabel('fatheduc')\n",
    "plt.show()\n",
    "\n",
    "plt.close()\n"
   ]
  },
  {
   "cell_type": "markdown",
   "metadata": {},
   "source": [
    "_**Plot Analysis :**_\n",
    "* **1. educ:** in the first plot, we can observe a positive correlation between `wage` and `educ`. Interpretation : more years of education leads to higher wages.\n",
    "* **2. exper:** the second plot shows a light positive correlation between `wage` and `exper`.\n",
    "* **3. fatheduc:** the second plot shows a light positive correlation between `wage` and `fatheduc`.\n",
    "\n",
    "It is not representative of the \"ceteris paribus effect\" since the other features are not held constant when plotting the correlation between features.\n"
   ]
  },
  {
   "cell_type": "markdown",
   "metadata": {},
   "source": [
    "### 6. Fundamental hypothesis <a class=\"anchor\" id=\"q6\"></a>"
   ]
  },
  {
   "cell_type": "markdown",
   "metadata": {},
   "source": [
    "Fundamental hypothesis for unbiased estimators : \n",
    "$$\\mathbb{E}(u|x)=\\mathbb{E}(u)=0$$\n",
    "The \"omitted variable bias\" refers to the situation in which relevant features are omitted when constructing a regression model."
   ]
  },
  {
   "cell_type": "markdown",
   "metadata": {},
   "source": [
    "### 7. `wage` regression <a class=\"anchor\" id=\"q7\"></a>"
   ]
  },
  {
   "cell_type": "code",
   "execution_count": 120,
   "metadata": {},
   "outputs": [],
   "source": [
    "# Useful variables :\n",
    "city = df[17]\n",
    "exper = df[18]\n",
    "nwifeinc = df[19]\n",
    "kidslt6 = df[2]\n",
    "kidsgt6 = df[3]\n"
   ]
  },
  {
   "cell_type": "code",
   "execution_count": 121,
   "metadata": {},
   "outputs": [
    {
     "name": "stdout",
     "output_type": "stream",
     "text": [
      "                            OLS Regression Results                            \n",
      "==============================================================================\n",
      "Dep. Variable:                      6   R-squared:                       0.127\n",
      "Model:                            OLS   Adj. R-squared:                  0.115\n",
      "Method:                 Least Squares   F-statistic:                     10.23\n",
      "Date:                Sun, 11 Dec 2022   Prob (F-statistic):           1.41e-10\n",
      "Time:                        13:37:34   Log-Likelihood:                -1090.0\n",
      "No. Observations:                 428   AIC:                             2194.\n",
      "Df Residuals:                     421   BIC:                             2222.\n",
      "Df Model:                           6                                         \n",
      "Covariance Type:            nonrobust                                         \n",
      "==============================================================================\n",
      "                 coef    std err          t      P>|t|      [0.025      0.975]\n",
      "------------------------------------------------------------------------------\n",
      "const         -2.4035      0.963     -2.495      0.013      -4.297      -0.510\n",
      "x1             0.3698      0.327      1.132      0.258      -0.272       1.012\n",
      "x2             0.4600      0.070      6.546      0.000       0.322       0.598\n",
      "x3             0.0238      0.021      1.141      0.255      -0.017       0.065\n",
      "x4             0.0152      0.015      0.984      0.326      -0.015       0.046\n",
      "x5             0.0362      0.397      0.091      0.927      -0.744       0.816\n",
      "x6            -0.0619      0.125     -0.494      0.622      -0.308       0.185\n",
      "==============================================================================\n",
      "Omnibus:                      345.825   Durbin-Watson:                   2.056\n",
      "Prob(Omnibus):                  0.000   Jarque-Bera (JB):             6499.375\n",
      "Skew:                           3.389   Prob(JB):                         0.00\n",
      "Kurtosis:                      20.847   Cond. No.                         178.\n",
      "==============================================================================\n",
      "\n",
      "Notes:\n",
      "[1] Standard Errors assume that the covariance matrix of the errors is correctly specified.\n"
     ]
    },
    {
     "data": {
      "image/png": "[encoded data removed]",
      "text/plain": [
       "<Figure size 432x288 with 1 Axes>"
      ]
     },
     "metadata": {},
     "output_type": "display_data"
    }
   ],
   "source": [
    "# Dependant variable :\n",
    "y = wage\n",
    "\n",
    "# Explicative variable :\n",
    "const = np.ones(np.shape(y))\n",
    "X = np.column_stack((const, city, educ, exper, nwifeinc, kidslt6, kidsgt6))\n",
    "\n",
    "# OLS :\n",
    "model = sm.OLS(y, X)\n",
    "results_w = model.fit()\n",
    "print(results_w.summary())\n",
    "\n",
    "# Residuals :\n",
    "u = results_w.resid\n",
    "sns.histplot(u, kde=True)\n",
    "\n",
    "plt.xlabel('residuals')\n",
    "plt.title('residuals histogram (wage)')\n",
    "\n",
    "plt.show()\n",
    "plt.close()\n"
   ]
  },
  {
   "cell_type": "markdown",
   "metadata": {},
   "source": [
    "The residuals appear to follow a centered normal distribution."
   ]
  },
  {
   "cell_type": "markdown",
   "metadata": {},
   "source": [
    "### 8. `lwage` regression <a class=\"anchor\" id=\"q8\"></a>"
   ]
  },
  {
   "cell_type": "code",
   "execution_count": 122,
   "metadata": {},
   "outputs": [
    {
     "name": "stdout",
     "output_type": "stream",
     "text": [
      "                            OLS Regression Results                            \n",
      "==============================================================================\n",
      "Dep. Variable:                      6   R-squared:                       0.156\n",
      "Model:                            OLS   Adj. R-squared:                  0.144\n",
      "Method:                 Least Squares   F-statistic:                     12.92\n",
      "Date:                Sun, 11 Dec 2022   Prob (F-statistic):           2.00e-13\n",
      "Time:                        13:37:35   Log-Likelihood:                -431.92\n",
      "No. Observations:                 428   AIC:                             877.8\n",
      "Df Residuals:                     421   BIC:                             906.3\n",
      "Df Model:                           6                                         \n",
      "Covariance Type:            nonrobust                                         \n",
      "==============================================================================\n",
      "                 coef    std err          t      P>|t|      [0.025      0.975]\n",
      "------------------------------------------------------------------------------\n",
      "const         -0.3990      0.207     -1.927      0.055      -0.806       0.008\n",
      "x1             0.0353      0.070      0.503      0.616      -0.103       0.173\n",
      "x2             0.1022      0.015      6.771      0.000       0.073       0.132\n",
      "x3             0.0155      0.004      3.452      0.001       0.007       0.024\n",
      "x4             0.0049      0.003      1.466      0.143      -0.002       0.011\n",
      "x5            -0.0453      0.085     -0.531      0.596      -0.213       0.122\n",
      "x6            -0.0117      0.027     -0.434      0.664      -0.065       0.041\n",
      "==============================================================================\n",
      "Omnibus:                       79.542   Durbin-Watson:                   1.979\n",
      "Prob(Omnibus):                  0.000   Jarque-Bera (JB):              287.193\n",
      "Skew:                          -0.795   Prob(JB):                     4.33e-63\n",
      "Kurtosis:                       6.685   Cond. No.                         178.\n",
      "==============================================================================\n",
      "\n",
      "Notes:\n",
      "[1] Standard Errors assume that the covariance matrix of the errors is correctly specified.\n"
     ]
    },
    {
     "data": {
      "image/png": "[encoded data removed]",
      "text/plain": [
       "<Figure size 432x288 with 1 Axes>"
      ]
     },
     "metadata": {},
     "output_type": "display_data"
    }
   ],
   "source": [
    "# Dependant variable :\n",
    "y = lwage\n",
    "\n",
    "# Explicative variable :\n",
    "const = np.ones(np.shape(y))\n",
    "X = np.column_stack((const, city, educ, exper, nwifeinc, kidslt6, kidsgt6))\n",
    "\n",
    "# OLS :\n",
    "model = sm.OLS(y, X)\n",
    "results_lw = model.fit()\n",
    "print(results_lw.summary())\n",
    "\n",
    "# Residuals :\n",
    "u = results_lw.resid\n",
    "sns.histplot(u, kde=True)\n",
    "\n",
    "plt.xlabel('residuals')\n",
    "plt.title('residuals histogram (lwage)')\n",
    "\n",
    "plt.show()\n",
    "plt.close()\n"
   ]
  },
  {
   "cell_type": "markdown",
   "metadata": {},
   "source": [
    "As for the `wage` regression, the residuals appear to follow a centered normal distribution. However, the result is more interesting because the variance is much smaller here."
   ]
  },
  {
   "cell_type": "markdown",
   "metadata": {},
   "source": [
    "### 9. Assumption of non-significance of `nwifeinc` <a class=\"anchor\" id=\"q9\"></a>"
   ]
  },
  {
   "cell_type": "markdown",
   "metadata": {},
   "source": [
    "We consider the following hypothesis :\n",
    "$$H_0 : \\beta_{\\text{nwifeinc}}=0 \\space\\text{ against }\\space H_1 : \\beta_{\\text{nwifeinc}}\\neq0$$\n",
    "**Main assumption :** if the p-value is less than or equal to the specified significance level α, the null hypothesis is rejected."
   ]
  },
  {
   "cell_type": "code",
   "execution_count": 123,
   "metadata": {},
   "outputs": [],
   "source": [
    "# Test summary functions :\n",
    "def test_hyp(boolean, alpha):\n",
    "    if boolean:\n",
    "        print(f'We reject the hypothesis H0 at {alpha*100}%')\n",
    "    else:\n",
    "        print(f'We do not reject the hypothesis H0 at {alpha*100}%')\n",
    "\n",
    "\n",
    "def std_tst_report(p_value, student, alpha):\n",
    "    print('========== Student Test Report ==========')\n",
    "    print(f'* Student statistic : {student}')\n",
    "    print(f'* p-value : {p_value}')\n",
    "    student_test = (p_value <= alpha)\n",
    "    test_hyp(student_test, alpha)\n",
    "\n",
    "\n",
    "def fsh_tst_report(p_value, F, alpha):\n",
    "    print('========== Fisher Test Report ==========')\n",
    "    print(f\"* Fisher statistic : {F}\")\n",
    "    print(f'* p_value : {p_value}')\n",
    "    student_test = (p_value <= alpha)\n",
    "    test_hyp(student_test, alpha)\n"
   ]
  },
  {
   "cell_type": "code",
   "execution_count": 124,
   "metadata": {},
   "outputs": [
    {
     "name": "stdout",
     "output_type": "stream",
     "text": [
      "----- Non-significance test (1.0%) -----\n",
      "========== Student Test Report ==========\n",
      "* Student statistic : 1.465951741624158\n",
      "* p-value : 0.14340791214518292\n",
      "We do not reject the hypothesis H0 at 1.0%\n",
      "----- Non-significance test (5.0%) -----\n",
      "========== Student Test Report ==========\n",
      "* Student statistic : 1.465951741624158\n",
      "* p-value : 0.14340791214518292\n",
      "We do not reject the hypothesis H0 at 5.0%\n",
      "----- Non-significance test (10.0%) -----\n",
      "========== Student Test Report ==========\n",
      "* Student statistic : 1.465951741624158\n",
      "* p-value : 0.14340791214518292\n",
      "We do not reject the hypothesis H0 at 10.0%\n"
     ]
    }
   ],
   "source": [
    "# Variables :\n",
    "beta, std_err = results_lw.params, results_lw.bse\n",
    "alphas = [0.01, 0.05, 0.1]\n",
    "n, k = np.shape(X)\n",
    "ddl = n-k\n",
    "\n",
    "# Student test :\n",
    "student = beta[4]/std_err[4]\n",
    "p_value = t.sf(np.abs(student), ddl)*2\n",
    "for alpha in alphas:\n",
    "    print(f'----- Non-significance test ({alpha*100}%) -----')\n",
    "    std_tst_report(p_value, student, alpha)\n"
   ]
  },
  {
   "cell_type": "markdown",
   "metadata": {},
   "source": [
    "According to the notion of significance introduced by Fisher on p-values, as `p_value`$= 0.1434079121451819 > 0.1$, there is no presumption against the null hypothesis. We cannot therefore reject the hypothesis $H_0$, hence the non-significance of the parameter `nwifeinc`."
   ]
  },
  {
   "cell_type": "markdown",
   "metadata": {},
   "source": [
    "### 10. Equality test <a class=\"anchor\" id=\"q10\"></a>"
   ]
  },
  {
   "cell_type": "markdown",
   "metadata": {},
   "source": [
    "We consider the following hypothesis : \n",
    "$$H_0 : \\beta_{\\text{nwifeinc}}=0.01 \\space\\text{ against }\\space H_1 : \\beta_{\\text{nwifeinc}}\\neq0.01$$"
   ]
  },
  {
   "cell_type": "code",
   "execution_count": 125,
   "metadata": {},
   "outputs": [
    {
     "name": "stdout",
     "output_type": "stream",
     "text": [
      "========== Student Test Report ==========\n",
      "* Student statistic : -1.536388784674493\n",
      "* p-value : 0.1251942351511027\n",
      "We do not reject the hypothesis H0 at 5.0%\n"
     ]
    }
   ],
   "source": [
    "# Variables :\n",
    "beta, std_err = results_lw.params, results_lw.bse\n",
    "alpha = 0.05\n",
    "n, k = np.shape(X)\n",
    "ddl = n-k\n",
    "\n",
    "# Student test :\n",
    "student = (beta[4]-0.01)/std_err[4]\n",
    "p_value = t.sf(np.abs(student), ddl)*2\n",
    "std_tst_report(p_value, student, alpha)\n"
   ]
  },
  {
   "cell_type": "markdown",
   "metadata": {},
   "source": [
    "### 11. Joint hypothesis test <a class=\"anchor\" id=\"q11\"></a>"
   ]
  },
  {
   "cell_type": "markdown",
   "metadata": {},
   "source": [
    "We consider the following hypothesis :\n",
    "$$H_0 : \\beta_{\\text{nwifeinc}}=0.01 \\space\\text{ and }\\space \\beta_{\\text{city}}=0.05$$"
   ]
  },
  {
   "cell_type": "code",
   "execution_count": 126,
   "metadata": {},
   "outputs": [],
   "source": [
    "# Utility function to compute SSR :\n",
    "def comp_ssr(u):\n",
    "    ssr = 0\n",
    "    for elt in u:\n",
    "        ssr += (elt**2)\n",
    "    return ssr\n"
   ]
  },
  {
   "cell_type": "code",
   "execution_count": 127,
   "metadata": {},
   "outputs": [
    {
     "name": "stdout",
     "output_type": "stream",
     "text": [
      "========== Fisher Test Report ==========\n",
      "* Fisher statistic : 1.3370701154055398\n",
      "* p_value : 0.26372680012868377\n",
      "We do not reject the hypothesis H0 at 5.0%\n"
     ]
    }
   ],
   "source": [
    "# Variables :\n",
    "alpha = 0.05\n",
    "q = 2\n",
    "\n",
    "# Dependant variable :\n",
    "y_r = lwage\n",
    "y_ur = lwage - 0.05*city - 0.01*nwifeinc\n",
    "\n",
    "# Explicative variable :\n",
    "const = np.ones(np.shape(y))\n",
    "X_r = np.column_stack((const, city, educ, exper, nwifeinc, kidslt6, kidsgt6))\n",
    "X_ur = np.column_stack((const, educ, exper, kidslt6, kidsgt6))\n",
    "\n",
    "n, k = np.shape(X_r)\n",
    "ddl = n-k\n",
    "\n",
    "# OLS :\n",
    "model_r = sm.OLS(y_r, X_r)\n",
    "model_ur = sm.OLS(y_ur, X_ur)\n",
    "\n",
    "results_r = model_r.fit()\n",
    "results_ur = model_ur.fit()\n",
    "\n",
    "# Residuals :\n",
    "u_r = results_r.resid\n",
    "u_ur = results_ur.resid\n",
    "\n",
    "# Calculation of SSR_r and SSR_ur (constrained and unconstrained models) :\n",
    "SSR_r = comp_ssr(u_r)\n",
    "SSR_ur = comp_ssr(u_ur)\n",
    "\n",
    "# Fisher test & p-value :\n",
    "F = ((SSR_ur-SSR_r)/q)/(SSR_r/ddl)\n",
    "p_value = f.sf(F, q, ddl)\n",
    "fsh_tst_report(p_value, F, alpha)\n"
   ]
  },
  {
   "cell_type": "markdown",
   "metadata": {},
   "source": [
    "### 12. Representation of `wage` regarding `educ` and `exper` <a class=\"anchor\" id=\"q12\"></a> "
   ]
  },
  {
   "cell_type": "markdown",
   "metadata": {},
   "source": [
    "If you have not yet downloaded the plotly library, please run the following cell (after deleting the `#`): "
   ]
  },
  {
   "cell_type": "code",
   "execution_count": 128,
   "metadata": {},
   "outputs": [],
   "source": [
    "# %pip install plotly"
   ]
  },
  {
   "cell_type": "markdown",
   "metadata": {},
   "source": [
    "Let's plot the relationships between the $3$ variable :"
   ]
  },
  {
   "cell_type": "code",
   "execution_count": 129,
   "metadata": {},
   "outputs": [
    {
     "data": {
      "application/vnd.plotly.v1+json": {
       "config": {
        "plotlyServerURL": "https://plot.ly"
       },
       "data": [
        {
         "hovertemplate": "Experience=%{x}<br>Education=%{y}<br>Wage=%{marker.color}<extra></extra>",
         "legendgroup": "",
         "marker": {
          "color": [
           3.354,
           1.3889,
           4.5455,
           1.0965,
           4.5918,
           4.7421,
           8.3333,
           7.8431,
           2.1262,
           4.6875,
           4.063,
           4.5918,
           2.0833,
           2.2668,
           3.6797,
           1.3472,
           3.2143,
           5.175,
           2,
           7.5529,
           3.5052,
           3.5714,
           3.25,
           3.25,
           2.1545,
           3.7879,
           4,
           4.7269,
           7.2559,
           5.8671,
           1.5385,
           2.459,
           5.8511,
           3.5714,
           3.8068,
           2.4638,
           2.3753,
           4.5351,
           5.6183,
           14.631,
           2.6786,
           3.9194,
           2.5729,
           4.5375,
           2,
           3.4722,
           2.0161,
           4.5716,
           2.2727,
           2.6375,
           2.2899,
           1.0989,
           1.1765,
           1.6,
           1.8762,
           4.0437,
           9.6354,
           8.0409,
           4.599,
           2.1429,
           4.4,
           3.5354,
           2.7174,
           6.25,
           11.933,
           3.5931,
           6.9444,
           2.9167,
           3.0769,
           3.75,
           5.7259,
           3.6757,
           5.1648,
           8.2237,
           4.3365,
           4.9819,
           0.3571,
           2.9674,
           1,
           2.5554,
           0.8602,
           1,
           2.9261,
           3.5461,
           1.6264,
           8.3333,
           3.0952,
           2.7,
           5.2521,
           1.4154,
           4.7986,
           1.6667,
           1.1217,
           0.5,
           0.7143,
           2.7961,
           4.8583,
           1.7435,
           2.4631,
           2.4213,
           1.5345,
           2.8818,
           2.4069,
           5.2326,
           3.75,
           1.3889,
           4,
           3.2313,
           3.4014,
           1.3333,
           9.3023,
           4.5,
           4.6235,
           3.9557,
           5.814,
           0.5,
           4.0816,
           6,
           3.6667,
           3.8613,
           2.7629,
           2.931,
           4.3884,
           5.4167,
           9.8611,
           0.1616,
           0.3826,
           3.6364,
           2.3747,
           4.6667,
           1.8519,
           5.2,
           3.2986,
           8.5333,
           2.0635,
           2.5641,
           2.1875,
           6.25,
           3.3333,
           4.4444,
           6.6335,
           8.4224,
           4.3956,
           2.4457,
           1.2245,
           1.625,
           3,
           4.7269,
           1.1293,
           7.4024,
           4.4595,
           2.4725,
           1.8824,
           4,
           8.19,
           7.0968,
           1.6667,
           3.445,
           4.2347,
           2.7778,
           1.8892,
           5.0352,
           1.25,
           2.8571,
           4.1167,
           1.7778,
           13.554,
           4.5627,
           2.1277,
           2.9891,
           2.5654,
           5.6122,
           2.8054,
           1.607,
           2.25,
           2.0325,
           5.532,
           1.5845,
           3.7879,
           3,
           8.6538,
           4.2105,
           4.6875,
           4.0984,
           25,
           2.6331,
           6,
           5.4126,
           0.6642,
           1.25,
           2.2754,
           3.4615,
           4.1667,
           4.4687,
           1.75,
           3.6694,
           6.5826,
           2.6,
           4.8651,
           5.787,
           4.5408,
           9.5057,
           10.638,
           1.1111,
           4.0541,
           2.6871,
           2.9762,
           3.1728,
           3.55,
           17.907,
           3.4174,
           3.3333,
           3.886,
           2.3111,
           1.7108,
           2.1143,
           9.9331,
           3.0277,
           1.8605,
           0.1282,
           6.6327,
           5.6391,
           1.599,
           2.6667,
           7.9208,
           5.3398,
           4,
           6.0449,
           6.25,
           2.9762,
           4.2339,
           3.4916,
           4.9645,
           2.7692,
           3.6585,
           5.3935,
           0.6564,
           4.7688,
           8.5551,
           10.459,
           2.6375,
           6.8493,
           5.0872,
           0.9615,
           4.3066,
           7.0667,
           2.5253,
           7.8947,
           4.1489,
           8.1746,
           9.5971,
           2.0164,
           7.6218,
           3.1975,
           1.6,
           4.0984,
           1.4815,
           3.6364,
           1,
           2.6042,
           1.75,
           4.8,
           5.53,
           4.0984,
           1.25,
           1.6667,
           3.7901,
           2.3636,
           10.204,
           6.8182,
           7.2146,
           2.4484,
           1.1987,
           1.641,
           1.7821,
           2.9412,
           4.9689,
           1.8605,
           8.0357,
           3.9716,
           3.0416,
           2.907,
           3.0612,
           4.8966,
           4.0161,
           5.5556,
           1.2227,
           2.6839,
           2.6738,
           9.3294,
           3.1381,
           0.5426,
           8.6111,
           3.6687,
           2.3185,
           2.882,
           3.1666,
           3.6458,
           6.25,
           10.249,
           3.2096,
           7.6522,
           1.9724,
           4.698,
           2.1234,
           2.3333,
           2.3896,
           1.2564,
           1.0938,
           3.75,
           3.3072,
           5.1352,
           6.6327,
           4.5645,
           11.848,
           3.75,
           4.3651,
           3.9333,
           3.3333,
           3.3159,
           3.5616,
           1.6,
           2.2255,
           4.7872,
           5.8065,
           2.3585,
           2,
           1.9,
           5.123,
           5.4945,
           6.3218,
           7.1429,
           2.375,
           2.5429,
           2.1798,
           2.6,
           3.7294,
           4.375,
           4.4433,
           4.2877,
           1.6667,
           3.2558,
           5.4113,
           2.205,
           4.0625,
           0.6482,
           5.3826,
           0.1709,
           23.467,
           9.5785,
           3.6948,
           2.2222,
           1.749,
           1.1594,
           6.9901,
           3.9683,
           21.429,
           0.4762,
           2.1505,
           1.8578,
           4.3295,
           8.9286,
           2.7778,
           2.6565,
           2.5,
           18.267,
           0.819,
           2,
           15.385,
           6.4775,
           8.3333,
           4.5503,
           2.4958,
           4.4797,
           2.2324,
           2.071,
           1.676,
           3.4091,
           2.5,
           3.9609,
           6.2275,
           3.9286,
           2.9,
           4.0816,
           2.85,
           7.0153,
           2.9388,
           1.9231,
           6.875,
           3.9002,
           2,
           4.9763,
           1.2019,
           22.5,
           6.8677,
           3.5613,
           1.9792,
           5.3713,
           1.7442,
           5.0948,
           2.5,
           3.825,
           1,
           3.0717,
           1.7163,
           4.0209,
           5.4585,
           25,
           2.3897,
           3.2134,
           3.377,
           1.7778,
           3.1633,
           2.7027,
           1.6927,
           0.2137,
           6.7669,
           1.7407,
           2.5,
           4.4859,
           2.572,
           3.46,
           4.7826,
           2.3118,
           5.3061,
           5.8675,
           3.4091,
           4.0816
          ],
          "coloraxis": "coloraxis",
          "size": 5,
          "symbol": "circle"
         },
         "mode": "markers",
         "name": "",
         "scene": "scene",
         "showlegend": false,
         "type": "scatter3d",
         "x": [
          14,
          5,
          15,
          6,
          7,
          33,
          11,
          35,
          24,
          21,
          15,
          14,
          0,
          14,
          6,
          9,
          20,
          6,
          23,
          9,
          5,
          11,
          18,
          15,
          4,
          21,
          31,
          9,
          7,
          7,
          32,
          11,
          16,
          14,
          27,
          0,
          17,
          28,
          24,
          11,
          1,
          14,
          6,
          10,
          6,
          4,
          10,
          22,
          16,
          6,
          12,
          32,
          15,
          17,
          34,
          9,
          37,
          10,
          35,
          6,
          19,
          10,
          11,
          15,
          12,
          12,
          14,
          11,
          9,
          24,
          12,
          13,
          29,
          11,
          13,
          19,
          2,
          24,
          9,
          6,
          22,
          30,
          10,
          6,
          29,
          29,
          36,
          19,
          8,
          13,
          16,
          11,
          15,
          6,
          13,
          22,
          24,
          2,
          6,
          2,
          2,
          14,
          9,
          11,
          9,
          6,
          19,
          26,
          19,
          3,
          7,
          28,
          13,
          9,
          15,
          20,
          29,
          9,
          1,
          8,
          19,
          23,
          3,
          13,
          8,
          17,
          4,
          15,
          11,
          7,
          0,
          0,
          10,
          8,
          2,
          4,
          6,
          18,
          3,
          22,
          33,
          28,
          23,
          27,
          11,
          6,
          11,
          14,
          17,
          17,
          14,
          11,
          7,
          8,
          6,
          8,
          4,
          25,
          24,
          11,
          19,
          9,
          19,
          14,
          22,
          6,
          23,
          15,
          6,
          11,
          2,
          22,
          10,
          14,
          12,
          9,
          13,
          18,
          8,
          11,
          9,
          9,
          14,
          9,
          2,
          12,
          15,
          11,
          7,
          9,
          19,
          11,
          8,
          13,
          4,
          7,
          19,
          14,
          14,
          3,
          9,
          7,
          7,
          14,
          29,
          19,
          14,
          16,
          10,
          12,
          24,
          6,
          9,
          14,
          26,
          7,
          4,
          15,
          23,
          1,
          29,
          9,
          6,
          11,
          17,
          6,
          7,
          2,
          24,
          4,
          11,
          25,
          11,
          2,
          19,
          7,
          2,
          20,
          10,
          19,
          17,
          12,
          11,
          6,
          10,
          4,
          2,
          13,
          21,
          9,
          4,
          2,
          19,
          4,
          9,
          14,
          6,
          24,
          1,
          13,
          3,
          10,
          16,
          9,
          19,
          4,
          10,
          5,
          7,
          3,
          38,
          16,
          13,
          1,
          7,
          15,
          10,
          2,
          19,
          25,
          25,
          7,
          15,
          11,
          25,
          19,
          4,
          14,
          19,
          18,
          14,
          11,
          4,
          29,
          21,
          24,
          19,
          31,
          28,
          15,
          27,
          13,
          4,
          10,
          8,
          4,
          18,
          3,
          11,
          8,
          10,
          33,
          19,
          35,
          21,
          7,
          18,
          4,
          12,
          16,
          14,
          3,
          1,
          27,
          12,
          6,
          9,
          2,
          6,
          9,
          16,
          22,
          26,
          11,
          11,
          15,
          13,
          6,
          20,
          17,
          8,
          13,
          15,
          14,
          14,
          6,
          24,
          10,
          2,
          9,
          23,
          12,
          8,
          16,
          10,
          7,
          19,
          2,
          9,
          14,
          9,
          16,
          7,
          6,
          22,
          9,
          9,
          14,
          17,
          12,
          13,
          8,
          10,
          16,
          1,
          6,
          4,
          8,
          4,
          15,
          7,
          14,
          16,
          15,
          23,
          19,
          4,
          12,
          12,
          25,
          14,
          14,
          11,
          7,
          18,
          4,
          37,
          13,
          14,
          17,
          5,
          2,
          0,
          3,
          21,
          20,
          19,
          4,
          19,
          11,
          14,
          8,
          13,
          24,
          1,
          1,
          3,
          4,
          21,
          10,
          13,
          9,
          14,
          2,
          21,
          22,
          14,
          7
         ],
         "y": [
          12,
          12,
          12,
          12,
          14,
          12,
          16,
          12,
          12,
          12,
          12,
          11,
          12,
          12,
          10,
          11,
          12,
          12,
          12,
          12,
          16,
          12,
          13,
          12,
          12,
          17,
          12,
          12,
          17,
          12,
          11,
          16,
          13,
          12,
          16,
          11,
          12,
          10,
          14,
          17,
          12,
          12,
          16,
          12,
          12,
          12,
          16,
          12,
          12,
          12,
          12,
          12,
          12,
          8,
          10,
          16,
          14,
          17,
          14,
          12,
          14,
          12,
          8,
          12,
          12,
          8,
          17,
          12,
          12,
          12,
          12,
          12,
          9,
          10,
          12,
          12,
          12,
          17,
          15,
          12,
          6,
          14,
          12,
          14,
          9,
          17,
          13,
          9,
          15,
          12,
          12,
          12,
          12,
          12,
          12,
          12,
          12,
          13,
          12,
          13,
          12,
          12,
          12,
          16,
          12,
          13,
          11,
          12,
          12,
          12,
          17,
          14,
          16,
          17,
          12,
          11,
          12,
          12,
          17,
          10,
          13,
          11,
          12,
          16,
          17,
          12,
          16,
          12,
          16,
          8,
          12,
          12,
          12,
          13,
          11,
          12,
          12,
          14,
          12,
          12,
          12,
          17,
          14,
          12,
          9,
          12,
          12,
          12,
          14,
          16,
          17,
          15,
          12,
          16,
          17,
          17,
          12,
          16,
          13,
          12,
          11,
          16,
          14,
          16,
          12,
          9,
          17,
          14,
          12,
          12,
          11,
          12,
          12,
          10,
          12,
          5,
          17,
          11,
          12,
          12,
          14,
          11,
          12,
          14,
          12,
          10,
          16,
          13,
          12,
          12,
          12,
          11,
          12,
          9,
          13,
          12,
          12,
          12,
          13,
          16,
          12,
          16,
          17,
          12,
          12,
          9,
          12,
          12,
          13,
          12,
          12,
          12,
          12,
          10,
          12,
          16,
          12,
          11,
          12,
          10,
          12,
          12,
          12,
          12,
          16,
          17,
          12,
          17,
          12,
          12,
          12,
          8,
          12,
          13,
          12,
          12,
          8,
          12,
          17,
          17,
          12,
          13,
          12,
          12,
          12,
          12,
          9,
          10,
          12,
          16,
          13,
          8,
          16,
          13,
          12,
          11,
          13,
          12,
          12,
          10,
          12,
          17,
          15,
          16,
          10,
          11,
          12,
          12,
          14,
          16,
          14,
          8,
          7,
          12,
          12,
          14,
          12,
          12,
          12,
          14,
          16,
          12,
          12,
          12,
          13,
          13,
          10,
          12,
          12,
          12,
          12,
          14,
          17,
          10,
          9,
          12,
          12,
          16,
          12,
          17,
          12,
          17,
          11,
          16,
          11,
          13,
          11,
          8,
          11,
          12,
          10,
          17,
          12,
          12,
          17,
          14,
          12,
          12,
          12,
          12,
          12,
          12,
          9,
          10,
          12,
          12,
          12,
          12,
          12,
          17,
          12,
          17,
          12,
          10,
          12,
          12,
          12,
          12,
          12,
          12,
          16,
          13,
          13,
          12,
          16,
          17,
          12,
          14,
          12,
          17,
          12,
          14,
          12,
          12,
          17,
          16,
          16,
          12,
          9,
          12,
          12,
          16,
          14,
          12,
          12,
          11,
          12,
          16,
          17,
          17,
          14,
          12,
          14,
          12,
          10,
          12,
          13,
          16,
          12,
          7,
          16,
          14,
          12,
          10,
          12,
          16,
          10,
          12,
          14,
          12,
          6,
          15,
          12,
          17,
          14,
          13,
          6,
          16,
          14,
          15,
          14,
          8,
          14,
          12,
          12,
          12,
          12,
          12,
          12,
          8,
          12,
          17,
          12,
          12,
          14,
          13,
          17,
          8,
          12,
          11,
          12,
          12,
          17,
          10,
          12,
          13,
          12,
          12
         ],
         "z": [
          3.354,
          1.3889,
          4.5455,
          1.0965,
          4.5918,
          4.7421,
          8.3333,
          7.8431,
          2.1262,
          4.6875,
          4.063,
          4.5918,
          2.0833,
          2.2668,
          3.6797,
          1.3472,
          3.2143,
          5.175,
          2,
          7.5529,
          3.5052,
          3.5714,
          3.25,
          3.25,
          2.1545,
          3.7879,
          4,
          4.7269,
          7.2559,
          5.8671,
          1.5385,
          2.459,
          5.8511,
          3.5714,
          3.8068,
          2.4638,
          2.3753,
          4.5351,
          5.6183,
          14.631,
          2.6786,
          3.9194,
          2.5729,
          4.5375,
          2,
          3.4722,
          2.0161,
          4.5716,
          2.2727,
          2.6375,
          2.2899,
          1.0989,
          1.1765,
          1.6,
          1.8762,
          4.0437,
          9.6354,
          8.0409,
          4.599,
          2.1429,
          4.4,
          3.5354,
          2.7174,
          6.25,
          11.933,
          3.5931,
          6.9444,
          2.9167,
          3.0769,
          3.75,
          5.7259,
          3.6757,
          5.1648,
          8.2237,
          4.3365,
          4.9819,
          0.3571,
          2.9674,
          1,
          2.5554,
          0.8602,
          1,
          2.9261,
          3.5461,
          1.6264,
          8.3333,
          3.0952,
          2.7,
          5.2521,
          1.4154,
          4.7986,
          1.6667,
          1.1217,
          0.5,
          0.7143,
          2.7961,
          4.8583,
          1.7435,
          2.4631,
          2.4213,
          1.5345,
          2.8818,
          2.4069,
          5.2326,
          3.75,
          1.3889,
          4,
          3.2313,
          3.4014,
          1.3333,
          9.3023,
          4.5,
          4.6235,
          3.9557,
          5.814,
          0.5,
          4.0816,
          6,
          3.6667,
          3.8613,
          2.7629,
          2.931,
          4.3884,
          5.4167,
          9.8611,
          0.1616,
          0.3826,
          3.6364,
          2.3747,
          4.6667,
          1.8519,
          5.2,
          3.2986,
          8.5333,
          2.0635,
          2.5641,
          2.1875,
          6.25,
          3.3333,
          4.4444,
          6.6335,
          8.4224,
          4.3956,
          2.4457,
          1.2245,
          1.625,
          3,
          4.7269,
          1.1293,
          7.4024,
          4.4595,
          2.4725,
          1.8824,
          4,
          8.19,
          7.0968,
          1.6667,
          3.445,
          4.2347,
          2.7778,
          1.8892,
          5.0352,
          1.25,
          2.8571,
          4.1167,
          1.7778,
          13.554,
          4.5627,
          2.1277,
          2.9891,
          2.5654,
          5.6122,
          2.8054,
          1.607,
          2.25,
          2.0325,
          5.532,
          1.5845,
          3.7879,
          3,
          8.6538,
          4.2105,
          4.6875,
          4.0984,
          25,
          2.6331,
          6,
          5.4126,
          0.6642,
          1.25,
          2.2754,
          3.4615,
          4.1667,
          4.4687,
          1.75,
          3.6694,
          6.5826,
          2.6,
          4.8651,
          5.787,
          4.5408,
          9.5057,
          10.638,
          1.1111,
          4.0541,
          2.6871,
          2.9762,
          3.1728,
          3.55,
          17.907,
          3.4174,
          3.3333,
          3.886,
          2.3111,
          1.7108,
          2.1143,
          9.9331,
          3.0277,
          1.8605,
          0.1282,
          6.6327,
          5.6391,
          1.599,
          2.6667,
          7.9208,
          5.3398,
          4,
          6.0449,
          6.25,
          2.9762,
          4.2339,
          3.4916,
          4.9645,
          2.7692,
          3.6585,
          5.3935,
          0.6564,
          4.7688,
          8.5551,
          10.459,
          2.6375,
          6.8493,
          5.0872,
          0.9615,
          4.3066,
          7.0667,
          2.5253,
          7.8947,
          4.1489,
          8.1746,
          9.5971,
          2.0164,
          7.6218,
          3.1975,
          1.6,
          4.0984,
          1.4815,
          3.6364,
          1,
          2.6042,
          1.75,
          4.8,
          5.53,
          4.0984,
          1.25,
          1.6667,
          3.7901,
          2.3636,
          10.204,
          6.8182,
          7.2146,
          2.4484,
          1.1987,
          1.641,
          1.7821,
          2.9412,
          4.9689,
          1.8605,
          8.0357,
          3.9716,
          3.0416,
          2.907,
          3.0612,
          4.8966,
          4.0161,
          5.5556,
          1.2227,
          2.6839,
          2.6738,
          9.3294,
          3.1381,
          0.5426,
          8.6111,
          3.6687,
          2.3185,
          2.882,
          3.1666,
          3.6458,
          6.25,
          10.249,
          3.2096,
          7.6522,
          1.9724,
          4.698,
          2.1234,
          2.3333,
          2.3896,
          1.2564,
          1.0938,
          3.75,
          3.3072,
          5.1352,
          6.6327,
          4.5645,
          11.848,
          3.75,
          4.3651,
          3.9333,
          3.3333,
          3.3159,
          3.5616,
          1.6,
          2.2255,
          4.7872,
          5.8065,
          2.3585,
          2,
          1.9,
          5.123,
          5.4945,
          6.3218,
          7.1429,
          2.375,
          2.5429,
          2.1798,
          2.6,
          3.7294,
          4.375,
          4.4433,
          4.2877,
          1.6667,
          3.2558,
          5.4113,
          2.205,
          4.0625,
          0.6482,
          5.3826,
          0.1709,
          23.467,
          9.5785,
          3.6948,
          2.2222,
          1.749,
          1.1594,
          6.9901,
          3.9683,
          21.429,
          0.4762,
          2.1505,
          1.8578,
          4.3295,
          8.9286,
          2.7778,
          2.6565,
          2.5,
          18.267,
          0.819,
          2,
          15.385,
          6.4775,
          8.3333,
          4.5503,
          2.4958,
          4.4797,
          2.2324,
          2.071,
          1.676,
          3.4091,
          2.5,
          3.9609,
          6.2275,
          3.9286,
          2.9,
          4.0816,
          2.85,
          7.0153,
          2.9388,
          1.9231,
          6.875,
          3.9002,
          2,
          4.9763,
          1.2019,
          22.5,
          6.8677,
          3.5613,
          1.9792,
          5.3713,
          1.7442,
          5.0948,
          2.5,
          3.825,
          1,
          3.0717,
          1.7163,
          4.0209,
          5.4585,
          25,
          2.3897,
          3.2134,
          3.377,
          1.7778,
          3.1633,
          2.7027,
          1.6927,
          0.2137,
          6.7669,
          1.7407,
          2.5,
          4.4859,
          2.572,
          3.46,
          4.7826,
          2.3118,
          5.3061,
          5.8675,
          3.4091,
          4.0816
         ]
        }
       ],
       "layout": {
        "coloraxis": {
         "colorbar": {
          "title": {
           "text": "Wage"
          }
         },
         "colorscale": [
          [
           0,
           "#0d0887"
          ],
          [
           0.1111111111111111,
           "#46039f"
          ],
          [
           0.2222222222222222,
           "#7201a8"
          ],
          [
           0.3333333333333333,
           "#9c179e"
          ],
          [
           0.4444444444444444,
           "#bd3786"
          ],
          [
           0.5555555555555556,
           "#d8576b"
          ],
          [
           0.6666666666666666,
           "#ed7953"
          ],
          [
           0.7777777777777778,
           "#fb9f3a"
          ],
          [
           0.8888888888888888,
           "#fdca26"
          ],
          [
           1,
           "#f0f921"
          ]
         ]
        },
        "legend": {
         "tracegroupgap": 0
        },
        "margin": {
         "b": 0,
         "l": 0,
         "r": 0,
         "t": 0
        },
        "scene": {
         "camera": {
          "eye": {
           "x": 2,
           "y": 2,
           "z": 0.1
          }
         },
         "domain": {
          "x": [
           0,
           1
          ],
          "y": [
           0,
           1
          ]
         },
         "xaxis": {
          "title": {
           "text": "Experience"
          }
         },
         "yaxis": {
          "title": {
           "text": "Education"
          }
         },
         "zaxis": {
          "title": {
           "text": "Wage"
          }
         }
        },
        "template": {
         "data": {
          "bar": [
           {
            "error_x": {
             "color": "#2a3f5f"
            },
            "error_y": {
             "color": "#2a3f5f"
            },
            "marker": {
             "line": {
              "color": "#E5ECF6",
              "width": 0.5
             },
             "pattern": {
              "fillmode": "overlay",
              "size": 10,
              "solidity": 0.2
             }
            },
            "type": "bar"
           }
          ],
          "barpolar": [
           {
            "marker": {
             "line": {
              "color": "#E5ECF6",
              "width": 0.5
             },
             "pattern": {
              "fillmode": "overlay",
              "size": 10,
              "solidity": 0.2
             }
            },
            "type": "barpolar"
           }
          ],
          "carpet": [
           {
            "aaxis": {
             "endlinecolor": "#2a3f5f",
             "gridcolor": "white",
             "linecolor": "white",
             "minorgridcolor": "white",
             "startlinecolor": "#2a3f5f"
            },
            "baxis": {
             "endlinecolor": "#2a3f5f",
             "gridcolor": "white",
             "linecolor": "white",
             "minorgridcolor": "white",
             "startlinecolor": "#2a3f5f"
            },
            "type": "carpet"
           }
          ],
          "choropleth": [
           {
            "colorbar": {
             "outlinewidth": 0,
             "ticks": ""
            },
            "type": "choropleth"
           }
          ],
          "contour": [
           {
            "colorbar": {
             "outlinewidth": 0,
             "ticks": ""
            },
            "colorscale": [
             [
              0,
              "#0d0887"
             ],
             [
              0.1111111111111111,
              "#46039f"
             ],
             [
              0.2222222222222222,
              "#7201a8"
             ],
             [
              0.3333333333333333,
              "#9c179e"
             ],
             [
              0.4444444444444444,
              "#bd3786"
             ],
             [
              0.5555555555555556,
              "#d8576b"
             ],
             [
              0.6666666666666666,
              "#ed7953"
             ],
             [
              0.7777777777777778,
              "#fb9f3a"
             ],
             [
              0.8888888888888888,
              "#fdca26"
             ],
             [
              1,
              "#f0f921"
             ]
            ],
            "type": "contour"
           }
          ],
          "contourcarpet": [
           {
            "colorbar": {
             "outlinewidth": 0,
             "ticks": ""
            },
            "type": "contourcarpet"
           }
          ],
          "heatmap": [
           {
            "colorbar": {
             "outlinewidth": 0,
             "ticks": ""
            },
            "colorscale": [
             [
              0,
              "#0d0887"
             ],
             [
              0.1111111111111111,
              "#46039f"
             ],
             [
              0.2222222222222222,
              "#7201a8"
             ],
             [
              0.3333333333333333,
              "#9c179e"
             ],
             [
              0.4444444444444444,
              "#bd3786"
             ],
             [
              0.5555555555555556,
              "#d8576b"
             ],
             [
              0.6666666666666666,
              "#ed7953"
             ],
             [
              0.7777777777777778,
              "#fb9f3a"
             ],
             [
              0.8888888888888888,
              "#fdca26"
             ],
             [
              1,
              "#f0f921"
             ]
            ],
            "type": "heatmap"
           }
          ],
          "heatmapgl": [
           {
            "colorbar": {
             "outlinewidth": 0,
             "ticks": ""
            },
            "colorscale": [
             [
              0,
              "#0d0887"
             ],
             [
              0.1111111111111111,
              "#46039f"
             ],
             [
              0.2222222222222222,
              "#7201a8"
             ],
             [
              0.3333333333333333,
              "#9c179e"
             ],
             [
              0.4444444444444444,
              "#bd3786"
             ],
             [
              0.5555555555555556,
              "#d8576b"
             ],
             [
              0.6666666666666666,
              "#ed7953"
             ],
             [
              0.7777777777777778,
              "#fb9f3a"
             ],
             [
              0.8888888888888888,
              "#fdca26"
             ],
             [
              1,
              "#f0f921"
             ]
            ],
            "type": "heatmapgl"
           }
          ],
          "histogram": [
           {
            "marker": {
             "pattern": {
              "fillmode": "overlay",
              "size": 10,
              "solidity": 0.2
             }
            },
            "type": "histogram"
           }
          ],
          "histogram2d": [
           {
            "colorbar": {
             "outlinewidth": 0,
             "ticks": ""
            },
            "colorscale": [
             [
              0,
              "#0d0887"
             ],
             [
              0.1111111111111111,
              "#46039f"
             ],
             [
              0.2222222222222222,
              "#7201a8"
             ],
             [
              0.3333333333333333,
              "#9c179e"
             ],
             [
              0.4444444444444444,
              "#bd3786"
             ],
             [
              0.5555555555555556,
              "#d8576b"
             ],
             [
              0.6666666666666666,
              "#ed7953"
             ],
             [
              0.7777777777777778,
              "#fb9f3a"
             ],
             [
              0.8888888888888888,
              "#fdca26"
             ],
             [
              1,
              "#f0f921"
             ]
            ],
            "type": "histogram2d"
           }
          ],
          "histogram2dcontour": [
           {
            "colorbar": {
             "outlinewidth": 0,
             "ticks": ""
            },
            "colorscale": [
             [
              0,
              "#0d0887"
             ],
             [
              0.1111111111111111,
              "#46039f"
             ],
             [
              0.2222222222222222,
              "#7201a8"
             ],
             [
              0.3333333333333333,
              "#9c179e"
             ],
             [
              0.4444444444444444,
              "#bd3786"
             ],
             [
              0.5555555555555556,
              "#d8576b"
             ],
             [
              0.6666666666666666,
              "#ed7953"
             ],
             [
              0.7777777777777778,
              "#fb9f3a"
             ],
             [
              0.8888888888888888,
              "#fdca26"
             ],
             [
              1,
              "#f0f921"
             ]
            ],
            "type": "histogram2dcontour"
           }
          ],
          "mesh3d": [
           {
            "colorbar": {
             "outlinewidth": 0,
             "ticks": ""
            },
            "type": "mesh3d"
           }
          ],
          "parcoords": [
           {
            "line": {
             "colorbar": {
              "outlinewidth": 0,
              "ticks": ""
             }
            },
            "type": "parcoords"
           }
          ],
          "pie": [
           {
            "automargin": true,
            "type": "pie"
           }
          ],
          "scatter": [
           {
            "marker": {
             "colorbar": {
              "outlinewidth": 0,
              "ticks": ""
             }
            },
            "type": "scatter"
           }
          ],
          "scatter3d": [
           {
            "line": {
             "colorbar": {
              "outlinewidth": 0,
              "ticks": ""
             }
            },
            "marker": {
             "colorbar": {
              "outlinewidth": 0,
              "ticks": ""
             }
            },
            "type": "scatter3d"
           }
          ],
          "scattercarpet": [
           {
            "marker": {
             "colorbar": {
              "outlinewidth": 0,
              "ticks": ""
             }
            },
            "type": "scattercarpet"
           }
          ],
          "scattergeo": [
           {
            "marker": {
             "colorbar": {
              "outlinewidth": 0,
              "ticks": ""
             }
            },
            "type": "scattergeo"
           }
          ],
          "scattergl": [
           {
            "marker": {
             "colorbar": {
              "outlinewidth": 0,
              "ticks": ""
             }
            },
            "type": "scattergl"
           }
          ],
          "scattermapbox": [
           {
            "marker": {
             "colorbar": {
              "outlinewidth": 0,
              "ticks": ""
             }
            },
            "type": "scattermapbox"
           }
          ],
          "scatterpolar": [
           {
            "marker": {
             "colorbar": {
              "outlinewidth": 0,
              "ticks": ""
             }
            },
            "type": "scatterpolar"
           }
          ],
          "scatterpolargl": [
           {
            "marker": {
             "colorbar": {
              "outlinewidth": 0,
              "ticks": ""
             }
            },
            "type": "scatterpolargl"
           }
          ],
          "scatterternary": [
           {
            "marker": {
             "colorbar": {
              "outlinewidth": 0,
              "ticks": ""
             }
            },
            "type": "scatterternary"
           }
          ],
          "surface": [
           {
            "colorbar": {
             "outlinewidth": 0,
             "ticks": ""
            },
            "colorscale": [
             [
              0,
              "#0d0887"
             ],
             [
              0.1111111111111111,
              "#46039f"
             ],
             [
              0.2222222222222222,
              "#7201a8"
             ],
             [
              0.3333333333333333,
              "#9c179e"
             ],
             [
              0.4444444444444444,
              "#bd3786"
             ],
             [
              0.5555555555555556,
              "#d8576b"
             ],
             [
              0.6666666666666666,
              "#ed7953"
             ],
             [
              0.7777777777777778,
              "#fb9f3a"
             ],
             [
              0.8888888888888888,
              "#fdca26"
             ],
             [
              1,
              "#f0f921"
             ]
            ],
            "type": "surface"
           }
          ],
          "table": [
           {
            "cells": {
             "fill": {
              "color": "#EBF0F8"
             },
             "line": {
              "color": "white"
             }
            },
            "header": {
             "fill": {
              "color": "#C8D4E3"
             },
             "line": {
              "color": "white"
             }
            },
            "type": "table"
           }
          ]
         },
         "layout": {
          "annotationdefaults": {
           "arrowcolor": "#2a3f5f",
           "arrowhead": 0,
           "arrowwidth": 1
          },
          "autotypenumbers": "strict",
          "coloraxis": {
           "colorbar": {
            "outlinewidth": 0,
            "ticks": ""
           }
          },
          "colorscale": {
           "diverging": [
            [
             0,
             "#8e0152"
            ],
            [
             0.1,
             "#c51b7d"
            ],
            [
             0.2,
             "#de77ae"
            ],
            [
             0.3,
             "#f1b6da"
            ],
            [
             0.4,
             "#fde0ef"
            ],
            [
             0.5,
             "#f7f7f7"
            ],
            [
             0.6,
             "#e6f5d0"
            ],
            [
             0.7,
             "#b8e186"
            ],
            [
             0.8,
             "#7fbc41"
            ],
            [
             0.9,
             "#4d9221"
            ],
            [
             1,
             "#276419"
            ]
           ],
           "sequential": [
            [
             0,
             "#0d0887"
            ],
            [
             0.1111111111111111,
             "#46039f"
            ],
            [
             0.2222222222222222,
             "#7201a8"
            ],
            [
             0.3333333333333333,
             "#9c179e"
            ],
            [
             0.4444444444444444,
             "#bd3786"
            ],
            [
             0.5555555555555556,
             "#d8576b"
            ],
            [
             0.6666666666666666,
             "#ed7953"
            ],
            [
             0.7777777777777778,
             "#fb9f3a"
            ],
            [
             0.8888888888888888,
             "#fdca26"
            ],
            [
             1,
             "#f0f921"
            ]
           ],
           "sequentialminus": [
            [
             0,
             "#0d0887"
            ],
            [
             0.1111111111111111,
             "#46039f"
            ],
            [
             0.2222222222222222,
             "#7201a8"
            ],
            [
             0.3333333333333333,
             "#9c179e"
            ],
            [
             0.4444444444444444,
             "#bd3786"
            ],
            [
             0.5555555555555556,
             "#d8576b"
            ],
            [
             0.6666666666666666,
             "#ed7953"
            ],
            [
             0.7777777777777778,
             "#fb9f3a"
            ],
            [
             0.8888888888888888,
             "#fdca26"
            ],
            [
             1,
             "#f0f921"
            ]
           ]
          },
          "colorway": [
           "#636efa",
           "#EF553B",
           "#00cc96",
           "#ab63fa",
           "#FFA15A",
           "#19d3f3",
           "#FF6692",
           "#B6E880",
           "#FF97FF",
           "#FECB52"
          ],
          "font": {
           "color": "#2a3f5f"
          },
          "geo": {
           "bgcolor": "white",
           "lakecolor": "white",
           "landcolor": "#E5ECF6",
           "showlakes": true,
           "showland": true,
           "subunitcolor": "white"
          },
          "hoverlabel": {
           "align": "left"
          },
          "hovermode": "closest",
          "mapbox": {
           "style": "light"
          },
          "paper_bgcolor": "white",
          "plot_bgcolor": "#E5ECF6",
          "polar": {
           "angularaxis": {
            "gridcolor": "white",
            "linecolor": "white",
            "ticks": ""
           },
           "bgcolor": "#E5ECF6",
           "radialaxis": {
            "gridcolor": "white",
            "linecolor": "white",
            "ticks": ""
           }
          },
          "scene": {
           "xaxis": {
            "backgroundcolor": "#E5ECF6",
            "gridcolor": "white",
            "gridwidth": 2,
            "linecolor": "white",
            "showbackground": true,
            "ticks": "",
            "zerolinecolor": "white"
           },
           "yaxis": {
            "backgroundcolor": "#E5ECF6",
            "gridcolor": "white",
            "gridwidth": 2,
            "linecolor": "white",
            "showbackground": true,
            "ticks": "",
            "zerolinecolor": "white"
           },
           "zaxis": {
            "backgroundcolor": "#E5ECF6",
            "gridcolor": "white",
            "gridwidth": 2,
            "linecolor": "white",
            "showbackground": true,
            "ticks": "",
            "zerolinecolor": "white"
           }
          },
          "shapedefaults": {
           "line": {
            "color": "#2a3f5f"
           }
          },
          "ternary": {
           "aaxis": {
            "gridcolor": "white",
            "linecolor": "white",
            "ticks": ""
           },
           "baxis": {
            "gridcolor": "white",
            "linecolor": "white",
            "ticks": ""
           },
           "bgcolor": "#E5ECF6",
           "caxis": {
            "gridcolor": "white",
            "linecolor": "white",
            "ticks": ""
           }
          },
          "title": {
           "x": 0.05
          },
          "xaxis": {
           "automargin": true,
           "gridcolor": "white",
           "linecolor": "white",
           "ticks": "",
           "title": {
            "standoff": 15
           },
           "zerolinecolor": "white",
           "zerolinewidth": 2
          },
          "yaxis": {
           "automargin": true,
           "gridcolor": "white",
           "linecolor": "white",
           "ticks": "",
           "title": {
            "standoff": 15
           },
           "zerolinecolor": "white",
           "zerolinewidth": 2
          }
         }
        }
       }
      }
     },
     "metadata": {},
     "output_type": "display_data"
    }
   ],
   "source": [
    "import plotly.express as px\n",
    "\n",
    "# Scatter plot\n",
    "fig = px.scatter_3d(df, x=18, y=5, z=6, color=6,\n",
    "                labels={\n",
    "                     '18': \"Experience\",\n",
    "                     '5' : \"Education\",\n",
    "                     '6' : \"Wage\"\n",
    "                 })\n",
    "\n",
    "# tight layout\n",
    "fig.update_layout(margin=dict(l=0, r=0, b=0, t=0))\n",
    "\n",
    "# Initial camera view\n",
    "name = 'eye = (x:2, y:2, z:0.1)'\n",
    "camera = dict(\n",
    "    eye=dict(x=2, y=2, z=0.1)\n",
    ")\n",
    "\n",
    "fig.data[0].marker.symbol = 'circle'\n",
    "fig.update_layout(scene_camera=camera)\n",
    "fig.update_traces(marker_size = 5)\n",
    "\n",
    "fig.show()\n",
    "\n",
    "### Note: You can change the camera view by clicking and rotating the following figure.\n",
    "### Move the mouse over the dots to display more information."
   ]
  },
  {
   "cell_type": "markdown",
   "metadata": {},
   "source": [
    "**Notes on the 3D visualisation:**\n",
    "* Education is important for those with high and low experience. When considering low experience data, the salaries that stand out ( $>15$ ) correspond to those with high education ( $>12$ ).\n",
    "* When it comes to experience between $10$ and $25$, it is much more difficult to extract a real trend. The data is compact and not very readable."
   ]
  },
  {
   "cell_type": "markdown",
   "metadata": {},
   "source": [
    "### 13. Equality test (`kidsgt6` = `kidslt6`) <a class=\"anchor\" id=\"q13\"></a> "
   ]
  },
  {
   "cell_type": "markdown",
   "metadata": {},
   "source": [
    "We consider the following hypothesis :\n",
    "$$H_0 : \\beta_{\\text{kidsgt6}}=\\beta_{\\text{kidslt6}}$$\n",
    "The equation for the study is as follows :\n",
    "$$\n",
    "\\text{lwage}=\\text{const}+\\beta_{\\text{city}}\\text{city}+\\beta_{\\text{educ}}\\text{educ}+\\beta_{\\text{exper}}\\text{exper}+\\beta_{\\text{nwifeinc}}\\text{nwifeinc}+\\beta_{\\text{kidslt6}}\\text{kidslt6}+\\beta_{\\text{kidsgt6}}\\text{kidsgt6}\n",
    "$$\n",
    "We consider a new variable : \n",
    "$$\\theta = \\beta_{\\text{kidsgt6}}-\\beta_{\\text{kidslt6}}$$\n",
    "We insert our newly created variable in the model. We obtain : \n",
    "$$\n",
    "\\text{lwage}=\\text{const}+\\beta_{\\text{city}}\\text{city}+\\beta_{\\text{educ}}\\text{educ}+\\beta_{\\text{exper}}\\text{exper}+\\beta_{\\text{nwifeinc}}\\text{nwifeinc}+\\beta_{\\text{kidslt6}}(\\text{kidslt6}+\\text{kidsgt6})+\\theta\\text{kidsgt6}\n",
    "$$\n",
    "Our initial test becomes :\n",
    "$$H_0:\\theta = 0 \\space\\text{ against }\\space H_1:\\theta \\neq 0$$\n",
    "We can now perform a Student test and check the validity of our hypothesis :"
   ]
  },
  {
   "cell_type": "code",
   "execution_count": 130,
   "metadata": {},
   "outputs": [
    {
     "name": "stdout",
     "output_type": "stream",
     "text": [
      "========== Student Test Report ==========\n",
      "* Student statistic : 0.3717472501996143\n",
      "* p-value : 0.7102680707379367\n",
      "We do not reject the hypothesis H0 at 5.0%\n"
     ]
    }
   ],
   "source": [
    "# Variables :\n",
    "alpha = 0.05\n",
    "\n",
    "# Dependant variable :\n",
    "y = lwage\n",
    "\n",
    "# Explicative variable :\n",
    "const = np.ones(np.shape(y))\n",
    "X = np.column_stack((const, city, educ, exper, nwifeinc,\n",
    "                    kidslt6 + kidsgt6, kidsgt6))\n",
    "\n",
    "# OLS :\n",
    "model = sm.OLS(y, X)\n",
    "results = model.fit()\n",
    "\n",
    "beta = results.params\n",
    "std_err = results.bse\n",
    "n, k = np.shape(X)\n",
    "ddl = n-k\n",
    "\n",
    "# Student test :\n",
    "student = beta[6]/std_err[6]\n",
    "p_value = t.sf(np.abs(student), ddl)*2\n",
    "std_tst_report(p_value, student, alpha)\n"
   ]
  },
  {
   "cell_type": "markdown",
   "metadata": {},
   "source": [
    "The hypothesis $H_0$ is validated with a high p-value. Therefore, the coefficients of `kidsgt6` and `kidslt6` can be considered equal with good certainty. Having a child, whether over or under the age of six, has the same influence on the `wage`. "
   ]
  },
  {
   "cell_type": "markdown",
   "metadata": {},
   "source": [
    "### 14. Heteroscedasticity test for a linear model <a class=\"anchor\" id=\"q14\"></a>"
   ]
  },
  {
   "cell_type": "markdown",
   "metadata": {},
   "source": [
    "We consider the following hypothesis :\n",
    "$$H_0 : \\beta_{\\text{city}}=\\beta_{\\text{educ}}=\\beta_{\\text{exper}}=\\beta_{\\text{nwifeinc}}=\\beta_{\\text{kidslt6}}=\\beta_{\\text{kidsgt6}}=0$$"
   ]
  },
  {
   "cell_type": "code",
   "execution_count": 131,
   "metadata": {},
   "outputs": [
    {
     "name": "stdout",
     "output_type": "stream",
     "text": [
      "========== Fisher Test Report ==========\n",
      "* Fisher statistic : 2.0086961324394643\n",
      "* p_value : 0.06334088711633691\n",
      "We do not reject the hypothesis H0 at 5.0%\n",
      "\n",
      "                             OLS Regression Results                            \n",
      "==============================================================================\n",
      "Dep. Variable:                      y   R-squared:                       0.028\n",
      "Model:                            OLS   Adj. R-squared:                  0.014\n",
      "Method:                 Least Squares   F-statistic:                     2.009\n",
      "Date:                Sun, 11 Dec 2022   Prob (F-statistic):             0.0633\n",
      "Time:                        13:37:36   Log-Likelihood:                -622.39\n",
      "No. Observations:                 428   AIC:                             1259.\n",
      "Df Residuals:                     421   BIC:                             1287.\n",
      "Df Model:                           6                                         \n",
      "Covariance Type:            nonrobust                                         \n",
      "==============================================================================\n",
      "                 coef    std err          t      P>|t|      [0.025      0.975]\n",
      "------------------------------------------------------------------------------\n",
      "const          0.4519      0.323      1.398      0.163      -0.183       1.087\n",
      "x1             0.0967      0.110      0.883      0.378      -0.119       0.312\n",
      "x2             0.0126      0.024      0.536      0.593      -0.034       0.059\n",
      "x3            -0.0170      0.007     -2.423      0.016      -0.031      -0.003\n",
      "x4            -0.0036      0.005     -0.683      0.495      -0.014       0.007\n",
      "x5             0.1279      0.133      0.960      0.337      -0.134       0.390\n",
      "x6             0.0278      0.042      0.661      0.509      -0.055       0.110\n",
      "==============================================================================\n",
      "Omnibus:                      454.545   Durbin-Watson:                   1.642\n",
      "Prob(Omnibus):                  0.000   Jarque-Bera (JB):            16789.396\n",
      "Skew:                           4.875   Prob(JB):                         0.00\n",
      "Kurtosis:                      32.093   Cond. No.                         178.\n",
      "==============================================================================\n",
      "\n",
      "Notes:\n",
      "[1] Standard Errors assume that the covariance matrix of the errors is correctly specified.\n"
     ]
    }
   ],
   "source": [
    "# Variables :\n",
    "alpha = 0.05\n",
    "q = 6\n",
    "\n",
    "# First OLS :\n",
    "y = lwage\n",
    "\n",
    "const = np.ones(np.shape(y))\n",
    "X = np.column_stack((const, city, educ, exper, nwifeinc, kidslt6, kidsgt6))\n",
    "\n",
    "model = sm.OLS(y, X)\n",
    "results_w = model.fit()\n",
    "u = results_w.resid\n",
    "\n",
    "# Dependant variable :\n",
    "y_r = u**2\n",
    "y_ur = u**2\n",
    "\n",
    "# Explicative variable :\n",
    "const = np.ones(np.shape(y))\n",
    "X_r = np.column_stack((const, city, educ, exper, nwifeinc, kidslt6, kidsgt6))\n",
    "X_ur = const\n",
    "\n",
    "n, k = np.shape(X_r)\n",
    "ddl = n-k\n",
    "\n",
    "# OLS :\n",
    "model_r = sm.OLS(y_r, X_r)\n",
    "model_ur = sm.OLS(y_ur, X_ur)\n",
    "\n",
    "results_r = model_r.fit()\n",
    "results_ur = model_ur.fit()\n",
    "\n",
    "# Residuals :\n",
    "u_r = results_r.resid\n",
    "u_ur = results_ur.resid\n",
    "\n",
    "# Calculation of SSR_r and SSR_ur (constrained and unconstrained models) :\n",
    "SSR_r = comp_ssr(u_r)\n",
    "SSR_ur = comp_ssr(u_ur)\n",
    "\n",
    "# Fisher test & p-value :\n",
    "F = ((SSR_ur-SSR_r)/q)/(SSR_r/ddl)\n",
    "p_value = f.sf(F, q, ddl)\n",
    "fsh_tst_report(p_value, F, alpha)\n",
    "\n",
    "# Test summary :\n",
    "print('\\n', results_r.summary())\n"
   ]
  },
  {
   "cell_type": "markdown",
   "metadata": {},
   "source": [
    "Even if the $H_0$ hypothesis is not rejected for $\\alpha=5\\%$, the p-value obtained (`p_value` $= 0.06334088711633894$) is low and suggests one or more sources of heteroscedasticity.\n",
    "\n",
    "Indeed, we can notice in the model balance obtained that the variable $x_3=$ `exper` influences the model much more than the others, because its p-value obtained is very low (`p_value` $= 0.016$).\n",
    "\n",
    "We will correct this source of heteroscedasticity using the Weighted Least Squares method, as we do not know the covariance matrix."
   ]
  },
  {
   "cell_type": "code",
   "execution_count": 132,
   "metadata": {},
   "outputs": [
    {
     "name": "stdout",
     "output_type": "stream",
     "text": [
      "\n",
      "                                  OLS Regression Results                                \n",
      "=======================================================================================\n",
      "Dep. Variable:                      6   R-squared (uncentered):                   0.788\n",
      "Model:                            OLS   Adj. R-squared (uncentered):              0.785\n",
      "Method:                 Least Squares   F-statistic:                              223.6\n",
      "Date:                Sun, 11 Dec 2022   Prob (F-statistic):                   1.60e-137\n",
      "Time:                        13:37:36   Log-Likelihood:                         -326.25\n",
      "No. Observations:                 428   AIC:                                      666.5\n",
      "Df Residuals:                     421   BIC:                                      694.9\n",
      "Df Model:                           7                                                  \n",
      "Covariance Type:            nonrobust                                                  \n",
      "==============================================================================\n",
      "                 coef    std err          t      P>|t|      [0.025      0.975]\n",
      "------------------------------------------------------------------------------\n",
      "x1            -0.3693      0.198     -1.862      0.063      -0.759       0.021\n",
      "x2             0.0360      0.067      0.538      0.591      -0.096       0.168\n",
      "x3             0.1015      0.014      7.002      0.000       0.073       0.130\n",
      "x4             0.0138      0.004      3.324      0.001       0.006       0.022\n",
      "x5             0.0054      0.003      1.716      0.087      -0.001       0.012\n",
      "x6            -0.0474      0.092     -0.514      0.608      -0.229       0.134\n",
      "x7            -0.0174      0.027     -0.649      0.516      -0.070       0.035\n",
      "==============================================================================\n",
      "Omnibus:                       78.462   Durbin-Watson:                   1.975\n",
      "Prob(Omnibus):                  0.000   Jarque-Bera (JB):              243.399\n",
      "Skew:                          -0.834   Prob(JB):                     1.40e-53\n",
      "Kurtosis:                       6.297   Cond. No.                         180.\n",
      "==============================================================================\n",
      "\n",
      "Notes:\n",
      "[1] R² is computed without centering (uncentered) since the model does not contain a constant.\n",
      "[2] Standard Errors assume that the covariance matrix of the errors is correctly specified.\n"
     ]
    }
   ],
   "source": [
    "# First OLS :\n",
    "y = lwage\n",
    "\n",
    "const = np.ones(np.shape(y))\n",
    "X = np.column_stack((const, city, educ, exper, nwifeinc, kidslt6, kidsgt6))\n",
    "\n",
    "model = sm.OLS(y, X)\n",
    "results_w = model.fit()\n",
    "u = results_w.resid\n",
    "\n",
    "# WLS method :\n",
    "y_wls = np.log(u**2)\n",
    "\n",
    "const = np.ones(np.shape(y_wls))\n",
    "X_wls = np.column_stack((const, city, educ, exper, nwifeinc, kidslt6, kidsgt6))\n",
    "\n",
    "model_wls = sm.OLS(y_wls, X_wls)\n",
    "results_wls = model_wls.fit()\n",
    "\n",
    "# Final regression :\n",
    "h = np.exp(results_r.predict(X_wls))\n",
    "\n",
    "y_f = lwage/np.sqrt(h)\n",
    "X_f = np.column_stack((const/np.sqrt(h), city/np.sqrt(h), educ/np.sqrt(h),\n",
    "                      exper/np.sqrt(h), nwifeinc/np.sqrt(h), kidslt6/np.sqrt(h), kidsgt6/np.sqrt(h)))\n",
    "\n",
    "model_f = sm.OLS(y_f, X_f)\n",
    "results_f = model_f.fit()\n",
    "u_f = results_f.resid\n",
    "\n",
    "# Standard deviation :\n",
    "print('\\n', results_f.summary())\n"
   ]
  },
  {
   "cell_type": "markdown",
   "metadata": {},
   "source": [
    "We notice that the standard deviations obtained after the Weighted Least Squares method are globaly slightly lower than the basic ones (obtained in question 8).\n",
    "\n",
    "We will now apply a new Fisher test to compute the new p-value of the model."
   ]
  },
  {
   "cell_type": "code",
   "execution_count": 133,
   "metadata": {},
   "outputs": [
    {
     "name": "stdout",
     "output_type": "stream",
     "text": [
      "========== Fisher Test Report ==========\n",
      "* Fisher statistic : 0.9978898646576072\n",
      "* p_value : 0.4261844432259154\n",
      "We do not reject the hypothesis H0 at 5.0%\n",
      "\n",
      "                                  OLS Regression Results                                \n",
      "=======================================================================================\n",
      "Dep. Variable:                      y   R-squared (uncentered):                   0.164\n",
      "Model:                            OLS   Adj. R-squared (uncentered):              0.150\n",
      "Method:                 Least Squares   F-statistic:                              11.80\n",
      "Date:                Sun, 11 Dec 2022   Prob (F-statistic):                    9.63e-14\n",
      "Time:                        13:37:36   Log-Likelihood:                         -400.66\n",
      "No. Observations:                 428   AIC:                                      815.3\n",
      "Df Residuals:                     421   BIC:                                      843.7\n",
      "Df Model:                           7                                                  \n",
      "Covariance Type:            nonrobust                                                  \n",
      "==============================================================================\n",
      "                 coef    std err          t      P>|t|      [0.025      0.975]\n",
      "------------------------------------------------------------------------------\n",
      "x1             0.3303      0.236      1.400      0.162      -0.134       0.794\n",
      "x2             0.0331      0.080      0.415      0.678      -0.124       0.190\n",
      "x3             0.0095      0.017      0.552      0.582      -0.024       0.043\n",
      "x4            -0.0090      0.005     -1.820      0.069      -0.019       0.001\n",
      "x5            -0.0020      0.004     -0.528      0.598      -0.009       0.005\n",
      "x6             0.0422      0.110      0.384      0.701      -0.174       0.258\n",
      "x7             0.0136      0.032      0.428      0.669      -0.049       0.076\n",
      "==============================================================================\n",
      "Omnibus:                      484.319   Durbin-Watson:                   1.657\n",
      "Prob(Omnibus):                  0.000   Jarque-Bera (JB):            25711.356\n",
      "Skew:                           5.246   Prob(JB):                         0.00\n",
      "Kurtosis:                      39.492   Cond. No.                         180.\n",
      "==============================================================================\n",
      "\n",
      "Notes:\n",
      "[1] R² is computed without centering (uncentered) since the model does not contain a constant.\n",
      "[2] Standard Errors assume that the covariance matrix of the errors is correctly specified.\n"
     ]
    }
   ],
   "source": [
    "# Dependant variable :\n",
    "y_r = u_f**2\n",
    "y_ur = u_f**2\n",
    "\n",
    "# Explicative variable :\n",
    "const = np.ones(np.shape(y_r))\n",
    "X_r = X_f\n",
    "X_ur = const/np.sqrt(h)\n",
    "\n",
    "n, k = np.shape(X_r)\n",
    "ddl = n-k\n",
    "\n",
    "# OLS :\n",
    "model_r = sm.OLS(y_r, X_r)\n",
    "model_ur = sm.OLS(y_ur, X_ur)\n",
    "\n",
    "results_r = model_r.fit()\n",
    "results_ur = model_ur.fit()\n",
    "\n",
    "# Residuals :\n",
    "u_r = results_r.resid\n",
    "u_ur = results_ur.resid\n",
    "\n",
    "# Calculation of SSR_r and SSR_ur (constrained and unconstrained models) :\n",
    "SSR_r = comp_ssr(u_r)\n",
    "SSR_ur = comp_ssr(u_ur)\n",
    "\n",
    "# Fisher test & p-value :\n",
    "F = ((SSR_ur-SSR_r)/q)/(SSR_r/ddl)\n",
    "p_value = f.sf(F, q, ddl)\n",
    "fsh_tst_report(p_value, F, alpha)\n",
    "\n",
    "# Test summary :\n",
    "print('\\n', results_r.summary())\n"
   ]
  },
  {
   "cell_type": "markdown",
   "metadata": {},
   "source": [
    "The Weighted Least Squares method worked well, since the p-value of the model went from $0.06334088711633894$ to $0.4261844432258929$, especially for the variable `exper`, where the p-value went from $0.016$ to $0.069$."
   ]
  },
  {
   "cell_type": "markdown",
   "metadata": {},
   "source": [
    "### 15. Structure Change Test <a class=\"anchor\" id=\"q15\"></a>"
   ]
  },
  {
   "cell_type": "markdown",
   "metadata": {},
   "source": [
    "We will test the change in structure of [question 8](#q8) between women who are over $43$ and others: test on all coefficients. To do this, we will conduct a Chow test."
   ]
  },
  {
   "cell_type": "markdown",
   "metadata": {},
   "source": [
    "We divide our data set into two equal subsets (`df_S1` and `df_S2` respectively): \n",
    "* The first subset `S1` contains data collected on women aged 43 years or younger.\n",
    "* The second subset `S2` contains data collected on women aged 43 and over."
   ]
  },
  {
   "cell_type": "code",
   "execution_count": 134,
   "metadata": {},
   "outputs": [
    {
     "name": "stdout",
     "output_type": "stream",
     "text": [
      "===== Report on the subsets =====\n",
      "* number of rows S1 : 211\n",
      "* number of rows S2 : 211\n",
      "* equal number of rows : True\n"
     ]
    },
    {
     "name": "stderr",
     "output_type": "stream",
     "text": [
      "C:\\Users\\alexa\\AppData\\Local\\Temp\\ipykernel_60836\\1116040034.py:5: SettingWithCopyWarning:\n",
      "\n",
      "\n",
      "A value is trying to be set on a copy of a slice from a DataFrame.\n",
      "Try using .loc[row_indexer,col_indexer] = value instead\n",
      "\n",
      "See the caveats in the documentation: https://pandas.pydata.org/pandas-docs/stable/user_guide/indexing.html#returning-a-view-versus-a-copy\n",
      "\n"
     ]
    }
   ],
   "source": [
    "# Extracting the two subsets \n",
    "mask_1, mask_2 = (df[4]>=43), (df[4]<43)\n",
    "df_S1 = df[mask_1]\n",
    "df_S2 = df[mask_2].head(len(df_S1))\n",
    "df_S1[20] = df_S1[20].astype(float)\n",
    "df_S2[20] = df_S2[20].astype(float)\n",
    "\n",
    "# Checking the sizes of the subsets\n",
    "print('===== Report on the subsets =====')\n",
    "print(f'* number of rows S1 : {df_S1.shape[0]}')\n",
    "print(f'* number of rows S2 : {df_S2.shape[0]}')\n",
    "print(f'* equal number of rows : {df_S1.shape[0] == df_S2.shape[0]}')"
   ]
  },
  {
   "cell_type": "code",
   "execution_count": 135,
   "metadata": {},
   "outputs": [
    {
     "name": "stdout",
     "output_type": "stream",
     "text": [
      "===== Betas for each model =====\n",
      "* model subset S1 :\n",
      "-------------------\n",
      "const   -0.177435\n",
      "x1      -0.021595\n",
      "x2       0.077975\n",
      "x3       0.015546\n",
      "x4       0.008411\n",
      "x5      -0.122761\n",
      "x6       0.011233\n",
      "dtype: float64\n",
      "* model subset S2 :\n",
      "-------------------\n",
      "const   -0.830969\n",
      "x1       0.088280\n",
      "x2       0.135461\n",
      "x3       0.025814\n",
      "x4       0.001712\n",
      "x5      -0.091233\n",
      "x6      -0.023949\n",
      "dtype: float64\n"
     ]
    }
   ],
   "source": [
    "# Dependant variable :\n",
    "y1, y2 = df_S1[20], df_S2[20]\n",
    "city1, city2 = df_S1[17], df_S2[17]\n",
    "educ1, educ2 = df_S1[5], df_S2[5]\n",
    "exper1, exper2 = df_S1[18], df_S2[18]\n",
    "nwifeinc1, nwifeinc2 = df_S1[19], df_S2[19] \n",
    "kidslt61, kidslt62 = df_S1[2], df_S2[2]\n",
    "kidsgt61, kidsgt62 = df_S1[3], df_S2[3]\n",
    "\n",
    "# Explicative variable :\n",
    "const1, const2 = np.ones(np.shape(y1)), np.ones(np.shape(y2))\n",
    "X_S1 = np.column_stack((const1, city1, educ1, exper1, nwifeinc1, kidslt61, kidsgt61))\n",
    "X_S2 = np.column_stack((const2, city2, educ2, exper2, nwifeinc2, kidslt62, kidsgt62))\n",
    "\n",
    "# OLS :\n",
    "model_S1, model_S2 = sm.OLS(y1, X_S1), sm.OLS(y2, X_S2)\n",
    "results_lw_S1, results_lw_S2  = model_S1.fit(), model_S2.fit()\n",
    "\n",
    "beta_S1, beta_S2 = results_lw_S1.params, results_lw_S2.params \n",
    "\n",
    "# Plotting results : \n",
    "print('===== Betas for each model =====')\n",
    "print('* model subset S1 :')\n",
    "print('-------------------')\n",
    "print(beta_S1)\n",
    "print('* model subset S2 :')\n",
    "print('-------------------')\n",
    "print(beta_S2)"
   ]
  },
  {
   "cell_type": "markdown",
   "metadata": {},
   "source": [
    "We use Chow's test (structure change test) to test the following hypothesis: \n",
    "\n",
    "$$H_0 : \\text{The coefficients of the two linear regressions on the different data sets S1 and S2 are equal.}$$\n",
    "\n",
    "The Chow test formula is as follows :\n",
    "$$ F_{\\text{Chow}} = \\frac{(\\text{SSR}_{init} - (\\text{SSR}_{S1}+\\text{SSR}_{S2}))/k}{(\\text{SSR}_{S1}+\\text{SSR}_{S2})/(N_1 + N_2 - 2k)}$$\n",
    "with, \n",
    "* $\\text{SSR}_{init} :$ the residual sum of squares for the linear regression without breaks.\n",
    "* $\\text{SSR}_{Si} :$ the residual sum of squares for the linear regression lines represented by the data before and after the break point (here, `1986-Q2`).\n",
    "* $N_i :$ the number of rows in the subset $Si$.\n",
    "* $k :$ the number of breakpoints."
   ]
  },
  {
   "cell_type": "code",
   "execution_count": 140,
   "metadata": {},
   "outputs": [
    {
     "name": "stdout",
     "output_type": "stream",
     "text": [
      "===== Statistical Report =====\n",
      "* Chow's test value F_chow : 1.4294262597555654\n",
      "* p-value : 0.1916774934463571\n"
     ]
    }
   ],
   "source": [
    "# Computing F_chow :\n",
    "N1, N2 = 211, 211\n",
    "k = 7\n",
    "q, ddl = k, N1 + N2 -2*k\n",
    "\n",
    "SSR_init = comp_ssr(results_lw.resid)\n",
    "SSR_S1 = comp_ssr(results_lw_S1.resid)\n",
    "SSR_S2 = comp_ssr(results_lw_S2.resid)\n",
    "\n",
    "F_chow = ((SSR_init - (SSR_S1 + SSR_S2))/k)/((SSR_S1 + SSR_S2)/(N1 + N2 - 2*k))\n",
    "p_value = f.sf(F_chow, q, ddl)\n",
    "\n",
    "# Plotting the results : \n",
    "print('===== Statistical Report =====')\n",
    "print(f'* Chow\\'s test value F_chow : {F_chow}')\n",
    "print(f'* p-value : {p_value}')"
   ]
  },
  {
   "cell_type": "markdown",
   "metadata": {},
   "source": [
    "The p-value is above the $5\\%$ threshold. We therefore accept the hypothesis $H_0$ for the separation that we have selected."
   ]
  },
  {
   "cell_type": "markdown",
   "metadata": {},
   "source": [
    "### 16. Structure Change Test with altered hypothesis<a class=\"anchor\" id=\"q16\"></a>"
   ]
  },
  {
   "cell_type": "markdown",
   "metadata": {},
   "source": [
    "We repeat [question 15](#q15) assuming that only the returns to education and work experience change with a woman's age. The assumption $H_0$ remains the same: \n",
    "$$H_0: \\text{The coefficients of the two linear regressions on the different data sets S1 and S2 are equal.}$$\n",
    "Instead, our regression models are modified, we use only the following explanatory variables: {`educ`, `exper`}."
   ]
  },
  {
   "cell_type": "code",
   "execution_count": 137,
   "metadata": {},
   "outputs": [
    {
     "name": "stdout",
     "output_type": "stream",
     "text": [
      "===== Betas for each model =====\n",
      "* model subset S1 - Alternative hypothesis :\n",
      "-------------------\n",
      "const   -0.080983\n",
      "x1       0.087291\n",
      "x2       0.012161\n",
      "dtype: float64\n",
      "* model subset S2 - Alternative hypothesis :\n",
      "-------------------\n",
      "const   -0.924148\n",
      "x1       0.142423\n",
      "x2       0.027652\n",
      "dtype: float64\n"
     ]
    }
   ],
   "source": [
    "# Explicative variable :\n",
    "const1, const2 = np.ones(np.shape(y1)), np.ones(np.shape(y2))\n",
    "X_S1A = np.column_stack((const1, educ1, exper1))\n",
    "X_S2A = np.column_stack((const2, educ2, exper2))\n",
    "\n",
    "# OLS :\n",
    "model_S1A, model_S2A = sm.OLS(y1, X_S1A), sm.OLS(y2, X_S2A)\n",
    "results_lw_S1A, results_lw_S2A  = model_S1A.fit(), model_S2A.fit()\n",
    "\n",
    "beta_S1A, beta_S2A = results_lw_S1A.params, results_lw_S2A.params \n",
    "\n",
    "# Plotting results : \n",
    "print('===== Betas for each model =====')\n",
    "print('* model subset S1 - Alternative hypothesis :')\n",
    "print('-------------------')\n",
    "print(beta_S1A)\n",
    "print('* model subset S2 - Alternative hypothesis :')\n",
    "print('-------------------')\n",
    "print(beta_S2A)"
   ]
  },
  {
   "cell_type": "code",
   "execution_count": 139,
   "metadata": {},
   "outputs": [
    {
     "name": "stdout",
     "output_type": "stream",
     "text": [
      "===== Statistical Report =====\n",
      "* Chow's test value F_chow : 2.6014201652159503\n",
      "* p-value : 0.05167371520267457\n"
     ]
    }
   ],
   "source": [
    "# Init OLS\n",
    "model = sm.OLS(lwage, np.column_stack((np.ones(np.shape(y)), educ, exper)))\n",
    "results_lwA = model.fit()\n",
    "\n",
    "# Computing F_chow :\n",
    "N1, N2 = 211, 211\n",
    "k = 3\n",
    "q, ddl = k, N1 + N2 -2*k\n",
    "\n",
    "SSR_initA = comp_ssr(results_lwA.resid)\n",
    "SSR_S1A = comp_ssr(results_lw_S1A.resid)\n",
    "SSR_S2A = comp_ssr(results_lw_S2A.resid)\n",
    "\n",
    "F_chow = ((SSR_initA - (SSR_S1A + SSR_S2A))/k)/((SSR_S1A + SSR_S2A)/(N1 + N2 - 2*k))\n",
    "p_value = f.sf(F_chow, q, ddl)\n",
    "\n",
    "# Plotting the results : \n",
    "print('===== Statistical Report =====')\n",
    "print(f'* Chow\\'s test value F_chow : {F_chow}')\n",
    "print(f'* p-value : {p_value}')"
   ]
  },
  {
   "cell_type": "markdown",
   "metadata": {},
   "source": [
    "The p-value is above the $5\\%$ threshold. We therefore accept the hypothesis $H_0$ for the separation that we have selected."
   ]
  }
 ],
 "metadata": {
  "kernelspec": {
   "display_name": "Python 3.9.12 ('base')",
   "language": "python",
   "name": "python3"
  },
  "language_info": {
   "codemirror_mode": {
    "name": "ipython",
    "version": 3
   },
   "file_extension": ".py",
   "mimetype": "text/x-python",
   "name": "python",
   "nbconvert_exporter": "python",
   "pygments_lexer": "ipython3",
   "version": "3.9.12"
  },
  "orig_nbformat": 4,
  "vscode": {
   "interpreter": {
    "hash": "277d713a2869ad522e0f58de96fa3cb2620734b34dd3b3afd7f1966d69d2580f"
   }
  }
 },
 "nbformat": 4,
 "nbformat_minor": 2
}
