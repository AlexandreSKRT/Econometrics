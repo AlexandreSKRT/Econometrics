{
 "cells": [
  {
   "cell_type": "markdown",
   "metadata": {},
   "source": [
    "**Authors :** Alexandre Sukeratha, Jules Michaud\n",
    "\n",
    "# Project Econometrics - Part 2\n",
    "_Important : some cells require the previous cells to be runned to properly function. Therefore, we advise you to press the \"Run All\" button before taking a look at the NoteBook._"
   ]
  },
  {
   "cell_type": "markdown",
   "metadata": {},
   "source": [
    "### Importing Librairies"
   ]
  },
  {
   "cell_type": "code",
   "execution_count": 1,
   "metadata": {},
   "outputs": [],
   "source": [
    "from statsmodels.tsa.stattools import grangercausalitytests\n",
    "from statsmodels.stats.stattools import durbin_watson\n",
    "from statsmodels.tsa.ar_model import AutoReg\n",
    "import matplotlib.pyplot as plt\n",
    "import statsmodels.api as sm\n",
    "from scipy.stats import f\n",
    "import seaborn as sns\n",
    "import pandas as pd\n",
    "import numpy as np\n",
    "\n",
    "sns.set_style('darkgrid')"
   ]
  },
  {
   "cell_type": "markdown",
   "metadata": {},
   "source": [
    "### Importing the Data Set"
   ]
  },
  {
   "cell_type": "code",
   "execution_count": 2,
   "metadata": {},
   "outputs": [
    {
     "data": {
      "text/html": [
       "<div>\n",
       "<style scoped>\n",
       "    .dataframe tbody tr th:only-of-type {\n",
       "        vertical-align: middle;\n",
       "    }\n",
       "\n",
       "    .dataframe tbody tr th {\n",
       "        vertical-align: top;\n",
       "    }\n",
       "\n",
       "    .dataframe thead th {\n",
       "        text-align: right;\n",
       "    }\n",
       "</style>\n",
       "<table border=\"1\" class=\"dataframe\">\n",
       "  <thead>\n",
       "    <tr style=\"text-align: right;\">\n",
       "      <th></th>\n",
       "      <th>DATE</th>\n",
       "      <th>FFR</th>\n",
       "      <th>Tbill</th>\n",
       "      <th>Tb1yr</th>\n",
       "      <th>r5</th>\n",
       "      <th>r10</th>\n",
       "      <th>PPINSA</th>\n",
       "      <th>Finished</th>\n",
       "      <th>CPI</th>\n",
       "      <th>CPICORE</th>\n",
       "      <th>M1NSA</th>\n",
       "      <th>M2SA</th>\n",
       "      <th>M2NSA</th>\n",
       "      <th>Unemp</th>\n",
       "      <th>IndProd</th>\n",
       "      <th>RGDP</th>\n",
       "      <th>Potent</th>\n",
       "      <th>Deflator</th>\n",
       "      <th>Curr</th>\n",
       "    </tr>\n",
       "  </thead>\n",
       "  <tbody>\n",
       "    <tr>\n",
       "      <th>0</th>\n",
       "      <td>1960Q1</td>\n",
       "      <td>3.93</td>\n",
       "      <td>3.87</td>\n",
       "      <td>4.57</td>\n",
       "      <td>4.64</td>\n",
       "      <td>4.49</td>\n",
       "      <td>31.67</td>\n",
       "      <td>33.2</td>\n",
       "      <td>29.40</td>\n",
       "      <td>18.92</td>\n",
       "      <td>140.53</td>\n",
       "      <td>896.1</td>\n",
       "      <td>299.40</td>\n",
       "      <td>5.13</td>\n",
       "      <td>23.93</td>\n",
       "      <td>2845.3</td>\n",
       "      <td>2824.2</td>\n",
       "      <td>18.521</td>\n",
       "      <td>31.830</td>\n",
       "    </tr>\n",
       "    <tr>\n",
       "      <th>1</th>\n",
       "      <td>1960Q2</td>\n",
       "      <td>3.70</td>\n",
       "      <td>2.99</td>\n",
       "      <td>3.87</td>\n",
       "      <td>4.30</td>\n",
       "      <td>4.26</td>\n",
       "      <td>31.73</td>\n",
       "      <td>33.4</td>\n",
       "      <td>29.57</td>\n",
       "      <td>19.00</td>\n",
       "      <td>138.40</td>\n",
       "      <td>903.3</td>\n",
       "      <td>300.03</td>\n",
       "      <td>5.23</td>\n",
       "      <td>23.41</td>\n",
       "      <td>2832.0</td>\n",
       "      <td>2851.2</td>\n",
       "      <td>18.579</td>\n",
       "      <td>31.862</td>\n",
       "    </tr>\n",
       "  </tbody>\n",
       "</table>\n",
       "</div>"
      ],
      "text/plain": [
       "     DATE   FFR  Tbill  Tb1yr    r5   r10  PPINSA  Finished    CPI  CPICORE  \\\n",
       "0  1960Q1  3.93   3.87   4.57  4.64  4.49   31.67      33.2  29.40    18.92   \n",
       "1  1960Q2  3.70   2.99   3.87  4.30  4.26   31.73      33.4  29.57    19.00   \n",
       "\n",
       "    M1NSA   M2SA   M2NSA  Unemp  IndProd    RGDP  Potent  Deflator    Curr  \n",
       "0  140.53  896.1  299.40   5.13    23.93  2845.3  2824.2    18.521  31.830  \n",
       "1  138.40  903.3  300.03   5.23    23.41  2832.0  2851.2    18.579  31.862  "
      ]
     },
     "execution_count": 2,
     "metadata": {},
     "output_type": "execute_result"
    }
   ],
   "source": [
    "df = pd.read_excel('quarterly.xls')\n",
    "df.head(2)"
   ]
  },
  {
   "cell_type": "markdown",
   "metadata": {},
   "source": [
    "## Table of contents\n",
    "_Disclaimer: The following links take you to the end of each respective question._\n",
    "* [Question 1](#q1)\n",
    "* [Question 2](#q2)\n",
    "* [Question 3](#q3)\n",
    "* [Question 4](#q4)\n",
    "* [Question 5](#q5)\n",
    "* [Question 6](#q6)\n",
    "* [Question 7](#q7)\n",
    "* [Question 8](#q8)\n",
    "* [Question 9](#q9)\n",
    "* [Question 10](#q10)\n",
    "* [Question 11](#q11)"
   ]
  },
  {
   "cell_type": "markdown",
   "metadata": {},
   "source": [
    "### 1. Possible problem of missing observations <a class=\"anchor\" id=\"q1\"></a>"
   ]
  },
  {
   "cell_type": "code",
   "execution_count": 3,
   "metadata": {},
   "outputs": [],
   "source": [
    "# Dropping NaN values and potential duplicates :\n",
    "df.dropna(inplace=True)\n",
    "df.drop_duplicates(inplace=True)"
   ]
  },
  {
   "cell_type": "markdown",
   "metadata": {},
   "source": [
    "### 2. Inflation rate analysis <a class=\"anchor\" id=\"q2\"></a>"
   ]
  },
  {
   "cell_type": "markdown",
   "metadata": {},
   "source": [
    "We have, \n",
    "$$ \\text{inf} = \\frac{\\text{CPI}(t) - \\text{CPI}(t-1)}{\\text{CPI}(t)}$$"
   ]
  },
  {
   "cell_type": "code",
   "execution_count": 4,
   "metadata": {},
   "outputs": [
    {
     "data": {
      "image/png": "[encoded data removed]",
      "text/plain": [
       "<Figure size 432x288 with 1 Axes>"
      ]
     },
     "metadata": {},
     "output_type": "display_data"
    }
   ],
   "source": [
    "# Computing the inflation rate :\n",
    "CPI = df['CPI']\n",
    "CPI_1 = np.roll(CPI, 1)\n",
    "CPI_1[0]=CPI[0]\n",
    "\n",
    "df['inf'] = (CPI-CPI_1)/CPI\n",
    "df['DATE_yr'] = pd.to_datetime(df['DATE'].str[0:4])\n",
    "\n",
    "# Plotting the results :\n",
    "sns.lineplot(x='DATE_yr', y='inf', data=df)\n",
    "plt.xlabel('year')\n",
    "\n",
    "plt.ylabel('inflation rate')\n",
    "plt.title('inflation rate over time')\n",
    "\n",
    "plt.show()\n",
    "plt.close()\n"
   ]
  },
  {
   "cell_type": "markdown",
   "metadata": {},
   "source": [
    "**Comments :**\n",
    "The inflation rate peaked in the 1980s (as a result of the great inflation of the 1970s). It then stabilized and fell in 2008 (as a result of the subprime crisis)."
   ]
  },
  {
   "cell_type": "markdown",
   "metadata": {},
   "source": [
    "### 3. Autocorrelogram and Partial-autocorrelogram of `inf` <a class=\"anchor\" id=\"q3\"></a> "
   ]
  },
  {
   "cell_type": "markdown",
   "metadata": {},
   "source": [
    "Difference between the two plots :\n",
    "* **Autocorrelogram :** Autocorrelation measures the relationship between a variable’s current value and its past values.\n",
    "* **Partial-autocorrelogram :** it only shows the correlation between two observations that is not explained by the shorter lags between those observations."
   ]
  },
  {
   "cell_type": "code",
   "execution_count": 5,
   "metadata": {},
   "outputs": [
    {
     "name": "stderr",
     "output_type": "stream",
     "text": [
      "c:\\Users\\alexa\\anaconda3\\lib\\site-packages\\statsmodels\\graphics\\tsaplots.py:348: FutureWarning: The default method 'yw' can produce PACF values outside of the [-1,1] interval. After 0.13, the default will change tounadjusted Yule-Walker ('ywm'). You can use this method now by setting method='ywm'.\n",
      "  warnings.warn(\n"
     ]
    },
    {
     "data": {
      "image/png": "[encoded data removed]",
      "text/plain": [
       "<Figure size 432x288 with 1 Axes>"
      ]
     },
     "metadata": {},
     "output_type": "display_data"
    },
    {
     "data": {
      "image/png": "[encoded data removed]",
      "text/plain": [
       "<Figure size 432x288 with 1 Axes>"
      ]
     },
     "metadata": {},
     "output_type": "display_data"
    }
   ],
   "source": [
    "# Autocorrelation of inf :\n",
    "sm.graphics.tsa.plot_acf(df['inf'], lags=30);\n",
    "\n",
    "# Partial autocorrelation of inf :\n",
    "sm.graphics.tsa.plot_pacf(df['inf'], lags=20);\n",
    "\n",
    "plt.show()\n",
    "plt.close()"
   ]
  },
  {
   "cell_type": "markdown",
   "metadata": {},
   "source": [
    "**Analysis of the two autocorrelograms :**\n",
    "* The first graph shows that the autocorrelation decreases slowly with time. This reveals the presence of trends in the time series.\n",
    "* In the second graph, the partial autocorrelation varies around $0$. The partial autocorrelation for lag $1$ is statically signifant. The following lags are less significants. This partial-autocorrelation plot suggests fitting a second auto-regressive model.\n",
    "\n"
   ]
  },
  {
   "cell_type": "markdown",
   "metadata": {},
   "source": [
    "### 4. Difference between stationarity and ergodicity <a class=\"anchor\" id=\"q4\"></a> "
   ]
  },
  {
   "cell_type": "markdown",
   "metadata": {},
   "source": [
    "**Ergodicity** refers to processes that \"forget\" the initial conditions (the auto-correlation of order $k$ tends to $0$ for $k \\rightarrow +\\infty$). \n",
    "\n",
    "Whereas **Stationarity** refers to processes in which the past and future are similar (the joint distribution $(y_{s+1}, ..., y_{s+T})$ does not depend on s).\n",
    "\n",
    "These two conditions are required when using the ergodicity theorem. "
   ]
  },
  {
   "cell_type": "markdown",
   "metadata": {},
   "source": [
    "### 5. $AR(p)$ modelisation of `inf` <a class=\"anchor\" id=\"q5\"></a> "
   ]
  },
  {
   "cell_type": "markdown",
   "metadata": {},
   "source": [
    "Let us start by implementing a naive solution using an autoregression model with an arbitrary value for $p$."
   ]
  },
  {
   "cell_type": "code",
   "execution_count": 6,
   "metadata": {},
   "outputs": [
    {
     "name": "stdout",
     "output_type": "stream",
     "text": [
      "                            AutoReg Model Results                             \n",
      "==============================================================================\n",
      "Dep. Variable:                    inf   No. Observations:                  212\n",
      "Model:                     AutoReg(8)   Log Likelihood                 808.067\n",
      "Method:               Conditional MLE   S.D. of innovations              0.005\n",
      "Date:                Sun, 11 Dec 2022   AIC                          -1596.135\n",
      "Time:                        08:44:00   BIC                          -1562.954\n",
      "Sample:                             8   HQIC                         -1582.712\n",
      "                                  212                                         \n",
      "==============================================================================\n",
      "                 coef    std err          z      P>|z|      [0.025      0.975]\n",
      "------------------------------------------------------------------------------\n",
      "const          0.0015      0.001      2.541      0.011       0.000       0.003\n",
      "inf.L1         0.5940      0.070      8.513      0.000       0.457       0.731\n",
      "inf.L2        -0.0476      0.081     -0.586      0.558      -0.207       0.112\n",
      "inf.L3         0.3179      0.081      3.909      0.000       0.159       0.477\n",
      "inf.L4        -0.1017      0.084     -1.215      0.224      -0.266       0.062\n",
      "inf.L5         0.1329      0.084      1.591      0.112      -0.031       0.297\n",
      "inf.L6         0.0525      0.081      0.650      0.516      -0.106       0.211\n",
      "inf.L7        -0.0299      0.081     -0.371      0.710      -0.188       0.128\n",
      "inf.L8        -0.0718      0.069     -1.036      0.300      -0.208       0.064\n",
      "                                    Roots                                    \n",
      "=============================================================================\n",
      "                  Real          Imaginary           Modulus         Frequency\n",
      "-----------------------------------------------------------------------------\n",
      "AR.1            1.1336           -0.0000j            1.1336           -0.0000\n",
      "AR.2            1.3768           -0.0000j            1.3768           -0.0000\n",
      "AR.3            0.5851           -1.1880j            1.3242           -0.1772\n",
      "AR.4            0.5851           +1.1880j            1.3242            0.1772\n",
      "AR.5           -0.5921           -1.1909j            1.3300           -0.3234\n",
      "AR.6           -0.5921           +1.1909j            1.3300            0.3234\n",
      "AR.7           -1.4564           -0.8697j            1.6963           -0.4143\n",
      "AR.8           -1.4564           +0.8697j            1.6963            0.4143\n",
      "-----------------------------------------------------------------------------\n"
     ]
    }
   ],
   "source": [
    "# First model using p = 8 :\n",
    "model = AutoReg(df['inf'], 8, old_names=False)\n",
    "results = model.fit()\n",
    "print(results.summary())"
   ]
  },
  {
   "cell_type": "markdown",
   "metadata": {},
   "source": [
    "We need to find the parameter $p$ that optimizes our model. To do so, we will try to minimize the Akaike information criterion (AIC).\n",
    "\n",
    "When estimating a statistical model, it is possible to increase the likelihood of the model by adding a parameter. The Akaike information criterion allows to penalize the models according to the number of parameters.\n",
    "\n",
    "We define the Aikake Information Criterion $\\text{AIC}$ as follows : \n",
    "$$\\text{AIC} = 2p - 2\\text{ln}(L)$$\n",
    "with, \n",
    "* $p :$ the number of parameters used when estimating the model.\n",
    "* $L :$ the maximum of the likelihood function of the model.\n",
    "\n",
    "Let us plot the evolution of the criterion $\\text{AIC}$ as a function of $p$."
   ]
  },
  {
   "cell_type": "code",
   "execution_count": 7,
   "metadata": {},
   "outputs": [
    {
     "data": {
      "image/png": "[encoded data removed]",
      "text/plain": [
       "<Figure size 432x288 with 1 Axes>"
      ]
     },
     "metadata": {},
     "output_type": "display_data"
    },
    {
     "name": "stdout",
     "output_type": "stream",
     "text": [
      "===== Optimization Report =====\n",
      "* minimum value of the AIC : -1643.0\n",
      "* p optimizing the AutoReg model : 3\n"
     ]
    }
   ],
   "source": [
    "# Plotting the evolution of the criterion AIC as a function of p :\n",
    "AIC_list = []\n",
    "for p in range(1, 10):\n",
    "    model = AutoReg(df['inf'], p, old_names=False)\n",
    "    AIC_list.append(model.fit().aic)\n",
    "x = range(1,10)\n",
    "p_min = AIC_list.index(min(AIC_list)) + 1\n",
    "AIC_min = AIC_list[p_min -1]\n",
    "\n",
    "plt.plot(x, AIC_list)\n",
    "\n",
    "plt.xlabel('p')\n",
    "plt.ylabel('AIC')\n",
    "plt.title('AIC as a function of p')\n",
    "\n",
    "plt.show()\n",
    "plt.close()\n",
    "\n",
    "# Optimization report :\n",
    "print('===== Optimization Report =====')\n",
    "print(f'* minimum value of the AIC : {np.floor(AIC_min)}')\n",
    "print(f'* p optimizing the AutoReg model : {p_min}')\n"
   ]
  },
  {
   "cell_type": "markdown",
   "metadata": {},
   "source": [
    "We can now compute our optimized `AutoReg` model : "
   ]
  },
  {
   "cell_type": "code",
   "execution_count": 8,
   "metadata": {},
   "outputs": [
    {
     "name": "stdout",
     "output_type": "stream",
     "text": [
      "                            AutoReg Model Results                             \n",
      "==============================================================================\n",
      "Dep. Variable:                    inf   No. Observations:                  212\n",
      "Model:                     AutoReg(3)   Log Likelihood                 826.005\n",
      "Method:               Conditional MLE   S.D. of innovations              0.005\n",
      "Date:                Sun, 11 Dec 2022   AIC                          -1642.010\n",
      "Time:                        08:44:01   BIC                          -1625.299\n",
      "Sample:                             3   HQIC                         -1635.254\n",
      "                                  212                                         \n",
      "==============================================================================\n",
      "                 coef    std err          z      P>|z|      [0.025      0.975]\n",
      "------------------------------------------------------------------------------\n",
      "const          0.0014      0.001      2.578      0.010       0.000       0.003\n",
      "inf.L1         0.5731      0.066      8.680      0.000       0.444       0.703\n",
      "inf.L2        -0.0084      0.077     -0.109      0.913      -0.159       0.142\n",
      "inf.L3         0.2892      0.066      4.393      0.000       0.160       0.418\n",
      "                                    Roots                                    \n",
      "=============================================================================\n",
      "                  Real          Imaginary           Modulus         Frequency\n",
      "-----------------------------------------------------------------------------\n",
      "AR.1            1.0967           -0.0000j            1.0967           -0.0000\n",
      "AR.2           -0.5338           -1.6934j            1.7755           -0.2986\n",
      "AR.3           -0.5338           +1.6934j            1.7755            0.2986\n",
      "-----------------------------------------------------------------------------\n"
     ]
    }
   ],
   "source": [
    "# Optimized model using p = 3 :\n",
    "model = AutoReg(df['inf'], 3, old_names=False)\n",
    "results_opt = model.fit()\n",
    "print(results_opt.summary())"
   ]
  },
  {
   "cell_type": "markdown",
   "metadata": {},
   "source": [
    "### 6. Philips curve that explains the unemployment rate `Unemp` <a class=\"anchor\" id=\"q6\"></a> "
   ]
  },
  {
   "cell_type": "markdown",
   "metadata": {},
   "source": [
    "The Phillips curve is a statistical observation that illustrates a negative empirical relationship between the unemployment rate and inflation."
   ]
  },
  {
   "cell_type": "code",
   "execution_count": 22,
   "metadata": {},
   "outputs": [
    {
     "data": {
      "image/png": "[encoded data removed]",
      "text/plain": [
       "<Figure size 432x288 with 1 Axes>"
      ]
     },
     "metadata": {},
     "output_type": "display_data"
    }
   ],
   "source": [
    "# Plotting the Philips curve :\n",
    "sns.regplot(x='inf', y='Unemp', data=df)\n",
    "\n",
    "plt.ylabel('inflation rate')\n",
    "plt.xlabel('unemployement rate (in %)')\n",
    "plt.title('Philips curve of inflation as a function of unemployement')\n",
    "\n",
    "plt.show()\n",
    "plt.close()"
   ]
  },
  {
   "cell_type": "markdown",
   "metadata": {},
   "source": [
    "### 7. Testing the Error autocorrelation <a class=\"anchor\" id=\"q7\"></a> "
   ]
  },
  {
   "cell_type": "markdown",
   "metadata": {},
   "source": [
    "We run an OLS regression on the variable `Unemp` using `inf` as the explanatory variable. To test the autocorrelation of the errors, we apply the Durbin Watson test on the residuals."
   ]
  },
  {
   "cell_type": "code",
   "execution_count": 10,
   "metadata": {},
   "outputs": [
    {
     "name": "stdout",
     "output_type": "stream",
     "text": [
      "===== Durbin Watson test =====\n",
      "* DW test result : 0.04424548742050977\n"
     ]
    }
   ],
   "source": [
    "# Dependant variable \n",
    "y = df['Unemp']\n",
    "\n",
    "# Explicative variable\n",
    "const = np.ones(np.shape(y))\n",
    "inf = df['inf']\n",
    "X = np.column_stack((const, inf))\n",
    "\n",
    "# OLS  \n",
    "model = sm.OLS(y, X)\n",
    "results_unp = model.fit()\n",
    "\n",
    "# performing the Durbin-Watson test :\n",
    "dw_result = durbin_watson(results_unp.resid)\n",
    "print('===== Durbin Watson test =====')\n",
    "print(f'* DW test result : {dw_result}')\n"
   ]
  },
  {
   "cell_type": "markdown",
   "metadata": {},
   "source": [
    "The calculated value of the Durbin-Watson test is almost equal to $0$. For such a test, values less than $2.0$ mean that there is a positive autocorrelation. We can verify this statement by using autocorrelograms on our model (as we did in [question 3](#q3)):"
   ]
  },
  {
   "cell_type": "code",
   "execution_count": 11,
   "metadata": {},
   "outputs": [
    {
     "name": "stderr",
     "output_type": "stream",
     "text": [
      "c:\\Users\\alexa\\anaconda3\\lib\\site-packages\\statsmodels\\graphics\\tsaplots.py:348: FutureWarning: The default method 'yw' can produce PACF values outside of the [-1,1] interval. After 0.13, the default will change tounadjusted Yule-Walker ('ywm'). You can use this method now by setting method='ywm'.\n",
      "  warnings.warn(\n"
     ]
    },
    {
     "data": {
      "image/png": "[encoded data removed]",
      "text/plain": [
       "<Figure size 432x288 with 1 Axes>"
      ]
     },
     "metadata": {},
     "output_type": "display_data"
    },
    {
     "data": {
      "image/png": "[encoded data removed]",
      "text/plain": [
       "<Figure size 432x288 with 1 Axes>"
      ]
     },
     "metadata": {},
     "output_type": "display_data"
    }
   ],
   "source": [
    "# Autocorrelation of Unemp :\n",
    "sm.graphics.tsa.plot_acf(df['Unemp'], lags=30);\n",
    "\n",
    "# Partial autocorrelation of Unemp :\n",
    "sm.graphics.tsa.plot_pacf(df['Unemp'], lags=20);\n",
    "\n",
    "plt.show()\n",
    "plt.close()"
   ]
  },
  {
   "cell_type": "markdown",
   "metadata": {},
   "source": [
    "### 8. Error autocorrelation correction <a class=\"anchor\" id=\"q8\"></a> "
   ]
  },
  {
   "cell_type": "markdown",
   "metadata": {},
   "source": [
    "We consider the following model (In the following equations, $x$ and $y$ denote `inf` and `Unemp` respectively) : \n",
    "$$ y_{t-1} = \\beta_0 + \\beta_1x_{t-1} + u_{t-1}$$\n",
    "$$ y_{t} = \\beta_0 + \\beta_1x_{t} + u_{t}$$\n",
    "$$ u_t = \\rho u_{t-1} + e_t $$\n",
    "Subtracting the first equation from the second gives :\n",
    "$$ y_{t} - \\rho y_{t-1} = (1-\\rho)\\beta_0 + \\beta_1(x_t - \\rho x_{t-1}) + e_t $$\n",
    "We first perform an OLS regression to determine $\\rho$ :\n"
   ]
  },
  {
   "cell_type": "code",
   "execution_count": 12,
   "metadata": {},
   "outputs": [
    {
     "name": "stdout",
     "output_type": "stream",
     "text": [
      "rho : 0.9798216453641824\n"
     ]
    }
   ],
   "source": [
    "# OSL regression of the residuals : \n",
    "u = results_unp.resid\n",
    "n = len(u)\n",
    "u_1 = u[0:n-1]\n",
    "const = np.ones(n-1)\n",
    "\n",
    "X = np.column_stack((const, u_1))\n",
    "y = u[1:n]\n",
    "\n",
    "model = sm.OLS(y, X)\n",
    "results_res = model.fit()\n",
    "\n",
    "# Computing rho parameter :\n",
    "rho = results_res.params[1]\n",
    "print(f'rho : {rho}')"
   ]
  },
  {
   "cell_type": "markdown",
   "metadata": {},
   "source": [
    "We can now consider our new model using : \n",
    "$ y_{t} - \\rho y_{t-1} \\space\\text{ and } x_{t} - \\rho x_{t-1}\\space $\n"
   ]
  },
  {
   "cell_type": "code",
   "execution_count": 13,
   "metadata": {},
   "outputs": [
    {
     "name": "stdout",
     "output_type": "stream",
     "text": [
      "===== Durbin Watson test =====\n",
      "* DW test result : 0.7227233426848901\n"
     ]
    }
   ],
   "source": [
    "# Computing new variables :\n",
    "inf, unemp = df['inf'], df['Unemp']\n",
    "inf_1, unemp_1 = np.roll(inf, 1), np.roll(unemp, 1)\n",
    "inf_1[0], unemp_1[0] = inf[0], unemp[0]\n",
    "\n",
    "x_nm = inf - rho*inf_1\n",
    "y_nm = unemp - rho*unemp_1\n",
    "const = np.ones(np.shape(x_nm))\n",
    "X_nm = np.column_stack((const, x_nm))\n",
    "\n",
    "# Applying an OLS regression on our new model : \n",
    "model = sm.OLS(y_nm, X_nm)\n",
    "results_nm = model.fit()\n",
    "\n",
    "# performing the Durbin-Watson test\n",
    "dw_result_nm = durbin_watson(results_nm.resid)\n",
    "print('===== Durbin Watson test =====')\n",
    "print(f'* DW test result : {dw_result_nm}')\n"
   ]
  },
  {
   "cell_type": "markdown",
   "metadata": {},
   "source": [
    "The Durbin Watson test is closer to $2$ (a value that indicates zero autocorrelation). We have slightly corrected the autocorrelation errors."
   ]
  },
  {
   "cell_type": "markdown",
   "metadata": {},
   "source": [
    "### 9. Test of the stability of the unemployment-inflation relationship <a class=\"anchor\" id=\"q9\"></a> "
   ]
  },
  {
   "cell_type": "markdown",
   "metadata": {},
   "source": [
    "We divide our dataset into two equal subsets (respectively `df_S1` and `df_S2`): \n",
    "* The first subset `S1` contains the data collected between `1960-Q1` and `1986-Q2`.\n",
    "* The second subset `S2` contains the data collected between `1986-Q3` and `2012-Q4`."
   ]
  },
  {
   "cell_type": "code",
   "execution_count": 14,
   "metadata": {},
   "outputs": [
    {
     "name": "stdout",
     "output_type": "stream",
     "text": [
      "===== Report on the subsets =====\n",
      "* number of rows S1 : 106\n",
      "* number of rows S2 : 106\n",
      "* equal number of rows : True\n"
     ]
    }
   ],
   "source": [
    "# Extracting the two subsets \n",
    "df_S1 = df.head(106)\n",
    "df_S2 = df.tail(106).reset_index()\n",
    "\n",
    "# Checking the sizes of the subsets\n",
    "print('===== Report on the subsets =====')\n",
    "print(f'* number of rows S1 : {df_S1.shape[0]}')\n",
    "print(f'* number of rows S2 : {df_S2.shape[0]}')\n",
    "print(f'* equal number of rows : {df_S1.shape[0] == df_S2.shape[0]}')"
   ]
  },
  {
   "cell_type": "markdown",
   "metadata": {},
   "source": [
    "We run an OLS regression for each subset and check the estimated parameters :"
   ]
  },
  {
   "cell_type": "code",
   "execution_count": 24,
   "metadata": {},
   "outputs": [
    {
     "name": "stdout",
     "output_type": "stream",
     "text": [
      "===== Betas for each model =====\n",
      "* model subset S1 :\n",
      "-------------------\n",
      "const     0.148158\n",
      "x1      -26.245367\n",
      "dtype: float64\n",
      "* model subset S2 :\n",
      "-------------------\n",
      "const    0.129627\n",
      "x1       0.538244\n",
      "dtype: float64\n"
     ]
    }
   ],
   "source": [
    "n1, n2 = len(df_S1['inf']), len(df_S2['inf'])\n",
    "\n",
    "# OLS regression on S1 :\n",
    "inf_S1, unemp_S1 = df_S1['inf'][1:], df_S1['Unemp'][1:]\n",
    "inf_1_S1, unemp_1_S1 = np.roll(df_S1['inf'], 1)[1:], np.roll(df_S1['Unemp'], 1)[1:]\n",
    "\n",
    "x_nm_S1, y_nm_S1 = inf_S1 - rho*inf_1_S1,  unemp_S1 - rho*unemp_1_S1\n",
    "X_nm_S1 = np.column_stack((np.ones(n1 - 1), x_nm_S1))\n",
    "\n",
    "model_S1 = sm.OLS(y_nm_S1, X_nm_S1)\n",
    "results_S1 = model_S1.fit()\n",
    "beta_S1 = results_S1.params\n",
    "\n",
    "# OLS regression on S2 :\n",
    "inf_S2, unemp_S2 = df_S2['inf'][1:], df_S2['Unemp'][1:]\n",
    "inf_1_S2, unemp_1_S2 = np.roll(df_S2['inf'], 1)[1:], np.roll(df_S2['Unemp'], 1)[1:]\n",
    "\n",
    "x_nm_S2, y_nm_S2 = inf_S2 - rho*inf_1_S2,  unemp_S2 - rho*unemp_1_S2\n",
    "X_nm_S2 = np.column_stack((np.ones(n2 - 1), x_nm_S2))\n",
    "\n",
    "model_S2 = sm.OLS(y_nm_S2, X_nm_S2)\n",
    "results_S2 = model_S2.fit()\n",
    "beta_S2 = results_S2.params\n",
    "\n",
    "# Plotting results : \n",
    "print('===== Betas for each model =====')\n",
    "print('* model subset S1 :')\n",
    "print('-------------------')\n",
    "print(beta_S1)\n",
    "print('* model subset S2 :')\n",
    "print('-------------------')\n",
    "print(beta_S2)"
   ]
  },
  {
   "cell_type": "markdown",
   "metadata": {},
   "source": [
    "Although the parameters obtained appear to be explicitly distinct, we will use Chow's test (structure change test) to test the following hypothesis: \n",
    "\n",
    "$$H_0 : \\text{The coefficients of the two linear regressions on the different data sets S1 and S2 are equal.}$$\n",
    "\n",
    "The Chow test formula is as follows :\n",
    "$$ F_{\\text{Chow}} = \\frac{(\\text{SSR}_{init} - (\\text{SSR}_{S1}+\\text{SSR}_{S2}))/k}{(\\text{SSR}_{S1}+\\text{SSR}_{S2})/(N_1 + N_2 - 2k)}$$\n",
    "with, \n",
    "* $\\text{SSR}_{init} :$ the residual sum of squares for the linear regression without breaks.\n",
    "* $\\text{SSR}_{Si} :$ the residual sum of squares for the linear regression lines represented by the data before and after the break point (here, `1986-Q2`).\n",
    "* $N_i :$ the number of rows in the subset $Si$.\n",
    "* $k :$ the number of breakpoints.\n"
   ]
  },
  {
   "cell_type": "code",
   "execution_count": 16,
   "metadata": {},
   "outputs": [],
   "source": [
    "# Utility function to compute SSR :\n",
    "def comp_ssr(u): \n",
    "    ssr = 0\n",
    "    for elt in u: \n",
    "        ssr+=(elt**2)\n",
    "    return ssr"
   ]
  },
  {
   "cell_type": "code",
   "execution_count": 51,
   "metadata": {},
   "outputs": [
    {
     "name": "stdout",
     "output_type": "stream",
     "text": [
      "===== Statistical Report =====\n",
      "* Chow's test value F_chow : 4.496817205418956\n",
      "* p-value : 0.012248967328644623\n"
     ]
    }
   ],
   "source": [
    "# Computing F_chow :\n",
    "N1, N2 = 106, 106\n",
    "k = 2\n",
    "q, ddl = k, N1 + N2 -2*k\n",
    "\n",
    "SSR_init = comp_ssr(results_nm.resid)\n",
    "SSR_S1 = comp_ssr(results_S1.resid)\n",
    "SSR_S2 = comp_ssr(results_S2.resid)\n",
    "\n",
    "F_chow = ((SSR_init - (SSR_S1 + SSR_S2))/k)/((SSR_S1 + SSR_S2)/(N1 + N2 - 2*k))\n",
    "p_value = f.sf(F_chow, q, ddl)\n",
    "\n",
    "# Plotting the results : \n",
    "print('===== Statistical Report =====')\n",
    "print(f'* Chow\\'s test value F_chow : {F_chow}')\n",
    "print(f'* p-value : {p_value}')"
   ]
  },
  {
   "cell_type": "markdown",
   "metadata": {},
   "source": [
    "The p-value is below the $5\\%$ threshold. We therefore reject the hypothesis $H_0$ for the separation that we have selected."
   ]
  },
  {
   "cell_type": "markdown",
   "metadata": {},
   "source": [
    "### 10. Estimation of the phillips curve <a class=\"anchor\" id=\"q10\"></a> "
   ]
  },
  {
   "cell_type": "markdown",
   "metadata": {},
   "source": [
    "We consider a new model : \n",
    "$$ \\text{Unemp}_t = \\beta_0 + \\sum_{i=1}^4\\beta_i \\text{inf}_{t-i} + \\sum_{j=1}^4\\alpha_j \\text{Unemp}_{t-j}$$\n",
    "We will successively: \n",
    "* calculate the OLS regression of this new model. \n",
    "* do the Granger causality test of inflation on unemployment. \n",
    "* calculate the p-value.\n",
    "\n",
    "Let us first compute the OLS regression."
   ]
  },
  {
   "cell_type": "code",
   "execution_count": 35,
   "metadata": {},
   "outputs": [
    {
     "name": "stdout",
     "output_type": "stream",
     "text": [
      "                            OLS Regression Results                            \n",
      "==============================================================================\n",
      "Dep. Variable:                  Unemp   R-squared:                       0.979\n",
      "Model:                            OLS   Adj. R-squared:                  0.978\n",
      "Method:                 Least Squares   F-statistic:                     1149.\n",
      "Date:                Sun, 11 Dec 2022   Prob (F-statistic):          4.60e-162\n",
      "Time:                        09:09:47   Log-Likelihood:                 4.9681\n",
      "No. Observations:                 208   AIC:                             8.064\n",
      "Df Residuals:                     199   BIC:                             38.10\n",
      "Df Model:                           8                                         \n",
      "Covariance Type:            nonrobust                                         \n",
      "==============================================================================\n",
      "                 coef    std err          t      P>|t|      [0.025      0.975]\n",
      "------------------------------------------------------------------------------\n",
      "const          0.1461      0.072      2.021      0.045       0.004       0.289\n",
      "x1             1.5988      0.070     22.900      0.000       1.461       1.737\n",
      "x2            -0.6538      0.133     -4.921      0.000      -0.916      -0.392\n",
      "x3             0.0248      0.135      0.184      0.854      -0.241       0.291\n",
      "x4            -0.0089      0.070     -0.127      0.899      -0.147       0.129\n",
      "x5             2.9212      3.774      0.774      0.440      -4.520      10.363\n",
      "x6            -2.2509      4.095     -0.550      0.583     -10.325       5.823\n",
      "x7             7.1803      4.014      1.789      0.075      -0.735      15.095\n",
      "x8             1.5074      3.756      0.401      0.689      -5.899       8.914\n",
      "==============================================================================\n",
      "Omnibus:                       28.630   Durbin-Watson:                   2.007\n",
      "Prob(Omnibus):                  0.000   Jarque-Bera (JB):               67.758\n",
      "Skew:                           0.612   Prob(JB):                     1.93e-15\n",
      "Kurtosis:                       5.514   Cond. No.                     4.05e+03\n",
      "==============================================================================\n",
      "\n",
      "Notes:\n",
      "[1] Standard Errors assume that the covariance matrix of the errors is correctly specified.\n",
      "[2] The condition number is large, 4.05e+03. This might indicate that there are\n",
      "strong multicollinearity or other numerical problems.\n"
     ]
    }
   ],
   "source": [
    "# OLS regression :\n",
    "inf, unemp = df['inf'], df['Unemp']\n",
    "n = len(inf)\n",
    "\n",
    "# Computing the {1, 2, 3, 4} lags for 'inf' and 'Unemp' : \n",
    "inf_1, unemp_1 = np.roll(inf, 1)[4:], np.roll(unemp, 1)[4:]\n",
    "inf_2, unemp_2 = np.roll(inf, 2)[4:], np.roll(unemp, 2)[4:]\n",
    "inf_3, unemp_3 = np.roll(inf, 3)[4:], np.roll(unemp, 3)[4:]\n",
    "inf_4, unemp_4 = np.roll(inf, 4)[4:], np.roll(unemp, 4)[4:]\n",
    "\n",
    "const = np.ones(n-4)\n",
    "X, y = np.column_stack((const, unemp_1, unemp_2, unemp_3, unemp_4, inf_1, inf_2, inf_3, inf_4)), unemp[4:]\n",
    "\n",
    "model = sm.OLS(y, X)\n",
    "results_phil = model.fit()\n",
    "\n",
    "# Plotting the results :\n",
    "print(results_phil.summary())"
   ]
  },
  {
   "cell_type": "markdown",
   "metadata": {},
   "source": [
    "Based on the OLS summary, we can identify the significant variables in our new model. In this case, they are : $\\text{inf}_{t-1}$ and $\\text{inf}_{t-3}$."
   ]
  },
  {
   "cell_type": "markdown",
   "metadata": {},
   "source": [
    "Now let's do a Granger test. We test the hypothesis that none of the past values of $X$ can predict the value of $Y$."
   ]
  },
  {
   "cell_type": "code",
   "execution_count": 19,
   "metadata": {},
   "outputs": [
    {
     "name": "stdout",
     "output_type": "stream",
     "text": [
      "\n",
      "Granger Causality\n",
      "number of lags (no zero) 5\n",
      "ssr based F test:         F=2.7228  , p=0.0210  , df_denom=196, df_num=5\n",
      "ssr based chi2 test:   chi2=14.3781 , p=0.0134  , df=5\n",
      "likelihood ratio test: chi2=13.9007 , p=0.0163  , df=5\n",
      "parameter F test:         F=2.7228  , p=0.0210  , df_denom=196, df_num=5\n"
     ]
    },
    {
     "data": {
      "text/plain": [
       "{5: ({'ssr_ftest': (2.7227999325322223, 0.02104450419735204, 196.0, 5),\n",
       "   'ssr_chi2test': (14.37805066413699, 0.013378194758352353, 5),\n",
       "   'lrtest': (13.900688236797578, 0.016252717156535597, 5),\n",
       "   'params_ftest': (2.7227999325321717, 0.021044504197354128, 196.0, 5.0)},\n",
       "  [<statsmodels.regression.linear_model.RegressionResultsWrapper at 0x2317ee7dd00>,\n",
       "   <statsmodels.regression.linear_model.RegressionResultsWrapper at 0x2317eeb70d0>,\n",
       "   array([[0., 0., 0., 0., 0., 1., 0., 0., 0., 0., 0.],\n",
       "          [0., 0., 0., 0., 0., 0., 1., 0., 0., 0., 0.],\n",
       "          [0., 0., 0., 0., 0., 0., 0., 1., 0., 0., 0.],\n",
       "          [0., 0., 0., 0., 0., 0., 0., 0., 1., 0., 0.],\n",
       "          [0., 0., 0., 0., 0., 0., 0., 0., 0., 1., 0.]])])}"
      ]
     },
     "execution_count": 19,
     "metadata": {},
     "output_type": "execute_result"
    }
   ],
   "source": [
    "# Granger-Causality test :\n",
    "grangercausalitytests(df[['Unemp', 'inf']], maxlag=[5])"
   ]
  },
  {
   "cell_type": "markdown",
   "metadata": {},
   "source": [
    "The p-values are below the $5\\%$ threshold. We reject the hypothesis that inflation has no impact on unemployment."
   ]
  },
  {
   "cell_type": "markdown",
   "metadata": {},
   "source": [
    "### 11. Graphical representation of the distributed delays <a class=\"anchor\" id=\"q11\"></a> "
   ]
  },
  {
   "cell_type": "markdown",
   "metadata": {},
   "source": [
    "We consider a model containing distributed delays :\n",
    "$$ \\text{Unemp}_t = \\beta_0 + \\sum_{i=1}^4\\beta_i \\text{inf}_{t-i}$$\n",
    "\n",
    "We will successively: \n",
    "* calculate the OLS regression of this new model. \n",
    "* plot a representation of the distributed delays.\n",
    "* compute the long-term effect of those delays."
   ]
  },
  {
   "cell_type": "code",
   "execution_count": 20,
   "metadata": {},
   "outputs": [
    {
     "name": "stdout",
     "output_type": "stream",
     "text": [
      "                            OLS Regression Results                            \n",
      "==============================================================================\n",
      "Dep. Variable:                  Unemp   R-squared:                       0.098\n",
      "Model:                            OLS   Adj. R-squared:                  0.076\n",
      "Method:                 Least Squares   F-statistic:                     4.390\n",
      "Date:                Sun, 11 Dec 2022   Prob (F-statistic):           0.000814\n",
      "Time:                        08:44:03   Log-Likelihood:                -385.15\n",
      "No. Observations:                 208   AIC:                             782.3\n",
      "Df Residuals:                     202   BIC:                             802.3\n",
      "Df Model:                           5                                         \n",
      "Covariance Type:            nonrobust                                         \n",
      "==============================================================================\n",
      "                 coef    std err          t      P>|t|      [0.025      0.975]\n",
      "------------------------------------------------------------------------------\n",
      "const          5.7600      0.196     29.462      0.000       5.374       6.145\n",
      "x1           -40.3354     23.352     -1.727      0.086     -86.379       5.709\n",
      "x2           -21.9814     27.052     -0.813      0.417     -75.321      31.358\n",
      "x3             0.3803     25.916      0.015      0.988     -50.719      51.480\n",
      "x4            23.8601     26.930      0.886      0.377     -29.240      76.960\n",
      "x5            72.3024     23.180      3.119      0.002      26.597     118.008\n",
      "==============================================================================\n",
      "Omnibus:                       34.343   Durbin-Watson:                   0.103\n",
      "Prob(Omnibus):                  0.000   Jarque-Bera (JB):               49.671\n",
      "Skew:                           0.966   Prob(JB):                     1.64e-11\n",
      "Kurtosis:                       4.415   Cond. No.                         345.\n",
      "==============================================================================\n",
      "\n",
      "Notes:\n",
      "[1] Standard Errors assume that the covariance matrix of the errors is correctly specified.\n"
     ]
    }
   ],
   "source": [
    "# OLS regression :\n",
    "\n",
    "const = np.ones(n-4)\n",
    "inf_0 = inf[4:]\n",
    "X, y = np.column_stack((const, inf_0, inf_1, inf_2, inf_3, inf_4)), unemp[4:]\n",
    "\n",
    "model = sm.OLS(y, X)\n",
    "results_dd = model.fit()\n",
    "\n",
    "# Plotting the results :\n",
    "print(results_dd.summary())"
   ]
  },
  {
   "cell_type": "markdown",
   "metadata": {},
   "source": [
    "Plotting the distributed delays : "
   ]
  },
  {
   "cell_type": "code",
   "execution_count": 49,
   "metadata": {},
   "outputs": [
    {
     "data": {
      "image/png": "[encoded data removed]",
      "text/plain": [
       "<Figure size 432x288 with 1 Axes>"
      ]
     },
     "metadata": {},
     "output_type": "display_data"
    }
   ],
   "source": [
    "# Graphical representation : \n",
    "dist_delays = results_dd.params[1:]\n",
    "plt.stem([0,1,2,3,4],dist_delays.array)\n",
    "plt.xlabel('i')\n",
    "plt.ylabel('delta_i')\n",
    "plt.title('Distributed delays')\n",
    "\n",
    "plt.show()\n",
    "plt.close()\n"
   ]
  },
  {
   "cell_type": "markdown",
   "metadata": {},
   "source": [
    "The long-term effect `lt_eff` is given by :\n",
    "$ \\sum_{i=1}^4\\beta_i $"
   ]
  },
  {
   "cell_type": "code",
   "execution_count": 50,
   "metadata": {},
   "outputs": [
    {
     "name": "stdout",
     "output_type": "stream",
     "text": [
      "===== Statistical Report =====\n",
      "* long-term effect : 34.22604751739047\n"
     ]
    }
   ],
   "source": [
    "# Computing the long-term effect : \n",
    "lt_eff = dist_delays.sum()\n",
    "print('===== Statistical Report =====')\n",
    "print(f'* long-term effect : {lt_eff}')"
   ]
  }
 ],
 "metadata": {
  "kernelspec": {
   "display_name": "Python 3.9.12 ('base')",
   "language": "python",
   "name": "python3"
  },
  "language_info": {
   "codemirror_mode": {
    "name": "ipython",
    "version": 3
   },
   "file_extension": ".py",
   "mimetype": "text/x-python",
   "name": "python",
   "nbconvert_exporter": "python",
   "pygments_lexer": "ipython3",
   "version": "3.9.12"
  },
  "orig_nbformat": 4,
  "vscode": {
   "interpreter": {
    "hash": "277d713a2869ad522e0f58de96fa3cb2620734b34dd3b3afd7f1966d69d2580f"
   }
  }
 },
 "nbformat": 4,
 "nbformat_minor": 2
}
